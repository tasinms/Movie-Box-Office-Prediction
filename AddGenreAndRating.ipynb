{
 "cells": [
  {
   "cell_type": "markdown",
   "metadata": {},
   "source": [
    "# OMDB API"
   ]
  },
  {
   "cell_type": "code",
   "execution_count": 112,
   "metadata": {},
   "outputs": [],
   "source": [
    "import pandas as pd\n",
    "import numpy as np"
   ]
  },
  {
   "cell_type": "code",
   "execution_count": 113,
   "metadata": {},
   "outputs": [
    {
     "data": {
      "text/html": [
       "<div>\n",
       "<style scoped>\n",
       "    .dataframe tbody tr th:only-of-type {\n",
       "        vertical-align: middle;\n",
       "    }\n",
       "\n",
       "    .dataframe tbody tr th {\n",
       "        vertical-align: top;\n",
       "    }\n",
       "\n",
       "    .dataframe thead th {\n",
       "        text-align: right;\n",
       "    }\n",
       "</style>\n",
       "<table border=\"1\" class=\"dataframe\">\n",
       "  <thead>\n",
       "    <tr style=\"text-align: right;\">\n",
       "      <th></th>\n",
       "      <th>ID</th>\n",
       "      <th>Title</th>\n",
       "      <th>Directed by</th>\n",
       "      <th>Produced by</th>\n",
       "      <th>Cinematography</th>\n",
       "      <th>Country</th>\n",
       "      <th>Running Time (int)</th>\n",
       "      <th>Release Date (datetime)</th>\n",
       "      <th>Distributed by</th>\n",
       "      <th>Language</th>\n",
       "      <th>...</th>\n",
       "      <th>Story by</th>\n",
       "      <th>Box Office (float)</th>\n",
       "      <th>Release Year</th>\n",
       "      <th>Trailer ID</th>\n",
       "      <th>Trailer Title</th>\n",
       "      <th>SentimentScore</th>\n",
       "      <th>Budget (float)</th>\n",
       "      <th>Box Office Status</th>\n",
       "      <th>Age Rating</th>\n",
       "      <th>Genres</th>\n",
       "    </tr>\n",
       "  </thead>\n",
       "  <tbody>\n",
       "    <tr>\n",
       "      <th>0</th>\n",
       "      <td>0</td>\n",
       "      <td>Daybreakers</td>\n",
       "      <td>The Spierig Brothers</td>\n",
       "      <td>['Chris Brown', 'Sean Furst', 'Bryan Furst']</td>\n",
       "      <td>Ben Nott</td>\n",
       "      <td>NaN</td>\n",
       "      <td>98.0</td>\n",
       "      <td>2009-09-11</td>\n",
       "      <td>['Lionsgate (United States)', 'Hoyts Distribut...</td>\n",
       "      <td>English</td>\n",
       "      <td>...</td>\n",
       "      <td>NaN</td>\n",
       "      <td>51400000.0</td>\n",
       "      <td>2009</td>\n",
       "      <td>U6NmZS9CTKE</td>\n",
       "      <td>NaN</td>\n",
       "      <td>0.642857</td>\n",
       "      <td>20000000.0</td>\n",
       "      <td>Success</td>\n",
       "      <td>R</td>\n",
       "      <td>Action, Horror, Sci-Fi</td>\n",
       "    </tr>\n",
       "    <tr>\n",
       "      <th>1</th>\n",
       "      <td>1</td>\n",
       "      <td>Leap Year</td>\n",
       "      <td>Anand Tucker</td>\n",
       "      <td>['Gary Barber', 'Chris Bender', 'Roger Birnbau...</td>\n",
       "      <td>Newton Thomas Sigel</td>\n",
       "      <td>NaN</td>\n",
       "      <td>100.0</td>\n",
       "      <td>2010-01-06</td>\n",
       "      <td>['Universal Pictures (United States)', 'Optimu...</td>\n",
       "      <td>English</td>\n",
       "      <td>...</td>\n",
       "      <td>NaN</td>\n",
       "      <td>32700000.0</td>\n",
       "      <td>2010</td>\n",
       "      <td>HrlQBsd8LsE</td>\n",
       "      <td>NaN</td>\n",
       "      <td>0.830000</td>\n",
       "      <td>19000000.0</td>\n",
       "      <td>Failure</td>\n",
       "      <td>PG</td>\n",
       "      <td>Comedy, Romance</td>\n",
       "    </tr>\n",
       "    <tr>\n",
       "      <th>2</th>\n",
       "      <td>2</td>\n",
       "      <td>Youth in Revolt</td>\n",
       "      <td>Miguel Arteta</td>\n",
       "      <td>David Permut</td>\n",
       "      <td>Chuy Chávez</td>\n",
       "      <td>United States</td>\n",
       "      <td>89.0</td>\n",
       "      <td>2009-10-19</td>\n",
       "      <td>Dimension Films</td>\n",
       "      <td>English</td>\n",
       "      <td>...</td>\n",
       "      <td>NaN</td>\n",
       "      <td>19700000.0</td>\n",
       "      <td>2009</td>\n",
       "      <td>1gBnVf130uU</td>\n",
       "      <td>NaN</td>\n",
       "      <td>0.780000</td>\n",
       "      <td>18000000.0</td>\n",
       "      <td>Failure</td>\n",
       "      <td>R</td>\n",
       "      <td>Comedy, Drama, Romance</td>\n",
       "    </tr>\n",
       "    <tr>\n",
       "      <th>3</th>\n",
       "      <td>3</td>\n",
       "      <td>Wonderful World</td>\n",
       "      <td>Joshua Goldin</td>\n",
       "      <td>['Miranda Bailey', 'Matthew Leutwyler', 'Glenn...</td>\n",
       "      <td>Daniel Shulman</td>\n",
       "      <td>United States</td>\n",
       "      <td>89.0</td>\n",
       "      <td>2009-04-27</td>\n",
       "      <td>Magnolia Pictures</td>\n",
       "      <td>English</td>\n",
       "      <td>...</td>\n",
       "      <td>NaN</td>\n",
       "      <td>9309.0</td>\n",
       "      <td>2009</td>\n",
       "      <td>n2_4asPVgOQ</td>\n",
       "      <td>NaN</td>\n",
       "      <td>0.500000</td>\n",
       "      <td>3000000.0</td>\n",
       "      <td>Failure</td>\n",
       "      <td>R</td>\n",
       "      <td>Comedy, Drama, Romance</td>\n",
       "    </tr>\n",
       "    <tr>\n",
       "      <th>4</th>\n",
       "      <td>4</td>\n",
       "      <td>The Book of Eli</td>\n",
       "      <td>The Hughes Brothers</td>\n",
       "      <td>['Joel Silver', 'Denzel Washington', 'Broderic...</td>\n",
       "      <td>Don Burgess</td>\n",
       "      <td>United States</td>\n",
       "      <td>118.0</td>\n",
       "      <td>2010-01-15</td>\n",
       "      <td>['Warner Bros. Pictures', ' (North America)', ...</td>\n",
       "      <td>English</td>\n",
       "      <td>...</td>\n",
       "      <td>NaN</td>\n",
       "      <td>157100000.0</td>\n",
       "      <td>2010</td>\n",
       "      <td>zSMHmtaoXtI</td>\n",
       "      <td>NaN</td>\n",
       "      <td>0.880000</td>\n",
       "      <td>80000000.0</td>\n",
       "      <td>Failure</td>\n",
       "      <td>R</td>\n",
       "      <td>Action, Adventure, Drama</td>\n",
       "    </tr>\n",
       "  </tbody>\n",
       "</table>\n",
       "<p>5 rows × 26 columns</p>\n",
       "</div>"
      ],
      "text/plain": [
       "   ID            Title           Directed by  \\\n",
       "0   0      Daybreakers  The Spierig Brothers   \n",
       "1   1        Leap Year          Anand Tucker   \n",
       "2   2  Youth in Revolt         Miguel Arteta   \n",
       "3   3  Wonderful World         Joshua Goldin   \n",
       "4   4  The Book of Eli   The Hughes Brothers   \n",
       "\n",
       "                                         Produced by       Cinematography  \\\n",
       "0       ['Chris Brown', 'Sean Furst', 'Bryan Furst']             Ben Nott   \n",
       "1  ['Gary Barber', 'Chris Bender', 'Roger Birnbau...  Newton Thomas Sigel   \n",
       "2                                       David Permut          Chuy Chávez   \n",
       "3  ['Miranda Bailey', 'Matthew Leutwyler', 'Glenn...       Daniel Shulman   \n",
       "4  ['Joel Silver', 'Denzel Washington', 'Broderic...          Don Burgess   \n",
       "\n",
       "         Country  Running Time (int) Release Date (datetime)  \\\n",
       "0            NaN                98.0              2009-09-11   \n",
       "1            NaN               100.0              2010-01-06   \n",
       "2  United States                89.0              2009-10-19   \n",
       "3  United States                89.0              2009-04-27   \n",
       "4  United States               118.0              2010-01-15   \n",
       "\n",
       "                                      Distributed by Language  ... Story by  \\\n",
       "0  ['Lionsgate (United States)', 'Hoyts Distribut...  English  ...      NaN   \n",
       "1  ['Universal Pictures (United States)', 'Optimu...  English  ...      NaN   \n",
       "2                                    Dimension Films  English  ...      NaN   \n",
       "3                                  Magnolia Pictures  English  ...      NaN   \n",
       "4  ['Warner Bros. Pictures', ' (North America)', ...  English  ...      NaN   \n",
       "\n",
       "  Box Office (float) Release Year   Trailer ID Trailer Title SentimentScore  \\\n",
       "0         51400000.0         2009  U6NmZS9CTKE           NaN       0.642857   \n",
       "1         32700000.0         2010  HrlQBsd8LsE           NaN       0.830000   \n",
       "2         19700000.0         2009  1gBnVf130uU           NaN       0.780000   \n",
       "3             9309.0         2009  n2_4asPVgOQ           NaN       0.500000   \n",
       "4        157100000.0         2010  zSMHmtaoXtI           NaN       0.880000   \n",
       "\n",
       "  Budget (float)  Box Office Status  Age Rating                    Genres  \n",
       "0     20000000.0            Success           R    Action, Horror, Sci-Fi  \n",
       "1     19000000.0            Failure          PG           Comedy, Romance  \n",
       "2     18000000.0            Failure           R    Comedy, Drama, Romance  \n",
       "3      3000000.0            Failure           R    Comedy, Drama, Romance  \n",
       "4     80000000.0            Failure           R  Action, Adventure, Drama  \n",
       "\n",
       "[5 rows x 26 columns]"
      ]
     },
     "execution_count": 113,
     "metadata": {},
     "output_type": "execute_result"
    }
   ],
   "source": [
    "df = pd.read_csv('MovieDataset.csv')\n",
    "df.head()"
   ]
  },
  {
   "cell_type": "markdown",
   "metadata": {},
   "source": [
    "Use OMDB API To Get Ratings And Genres"
   ]
  },
  {
   "cell_type": "code",
   "execution_count": 114,
   "metadata": {},
   "outputs": [],
   "source": [
    "# import requests\n",
    "# import json\n",
    "# from urllib.parse import quote\n",
    "\n",
    "# apiKey1 = '2fdcd4e2'\n",
    "# apiKey2 = 'b026a403'\n",
    "# apiKey3 = 'ba0729e6'\n",
    "\n",
    "\n",
    "# startingIndex = 1800\n",
    "\n",
    "# # Iterate over each row in the DataFrame\n",
    "# for index, row in df.iloc[startingIndex:].iterrows():\n",
    "#     title = row['Title']\n",
    "#     # year = str(row['Release Year'])\n",
    "\n",
    "#     request = f'http://www.omdbapi.com/?apikey={apiKey3}&t={title}'\n",
    "\n",
    "#     response = requests.get(request)\n",
    "\n",
    "#     # If Request Was Successful\n",
    "#     if response.status_code == 200:\n",
    "#         if response.json()['Response'] == 'True':\n",
    "#             ageRating = response.json()['Rated']\n",
    "#             genre = response.json()['Genre']\n",
    "#             df.at[index, 'Age Rating'] = ageRating\n",
    "#             df.at[index, 'Genres'] = genre\n",
    "#         else:\n",
    "#             df.at[index, 'Age Rating'] = np.nan\n",
    "#             df.at[index, 'Genres'] = np.nan\n",
    "#     else:\n",
    "#         print(f'Failed To Get Video ID For Title: {title} At Index {index}')\n"
   ]
  },
  {
   "cell_type": "markdown",
   "metadata": {},
   "source": [
    "# Data Cleanup"
   ]
  },
  {
   "cell_type": "code",
   "execution_count": 115,
   "metadata": {},
   "outputs": [
    {
     "data": {
      "text/plain": [
       "ID                            0\n",
       "Title                         0\n",
       "Directed by                   0\n",
       "Produced by                   1\n",
       "Cinematography               82\n",
       "Country                     450\n",
       "Running Time (int)            4\n",
       "Release Date (datetime)       0\n",
       "Distributed by                4\n",
       "Language                    145\n",
       "Written by                   10\n",
       "Starring                     11\n",
       "Edited by                     9\n",
       "Music by                     74\n",
       "Production companies         33\n",
       "Based on                   1035\n",
       "Story by                   1546\n",
       "Box Office (float)            0\n",
       "Release Year                  0\n",
       "Trailer ID                    0\n",
       "Trailer Title                88\n",
       "SentimentScore              185\n",
       "Budget (float)                0\n",
       "Box Office Status             0\n",
       "Age Rating                    6\n",
       "Genres                        4\n",
       "dtype: int64"
      ]
     },
     "execution_count": 115,
     "metadata": {},
     "output_type": "execute_result"
    }
   ],
   "source": [
    "df.isnull().sum()"
   ]
  },
  {
   "cell_type": "code",
   "execution_count": 116,
   "metadata": {},
   "outputs": [
    {
     "name": "stdout",
     "output_type": "stream",
     "text": [
      "        ID                      Title   Genres\n",
      "72      72             Here and There  Romance\n",
      "136    136          The Army of Crime      NaN\n",
      "174    174                     Crayon    Drama\n",
      "182    182  Five Minarets in New York      NaN\n",
      "1503  1503                  Smalltoes      NaN\n",
      "1564  1564       Miss Balasubramaniam      NaN\n"
     ]
    }
   ],
   "source": [
    "column = 'Age Rating'\n",
    "showNullIDs = df[df[column].isnull()][['ID', 'Title', 'Genres']]\n",
    "print(showNullIDs)"
   ]
  },
  {
   "cell_type": "markdown",
   "metadata": {},
   "source": [
    "Assign Rating To Null Or Wrong Values"
   ]
  },
  {
   "cell_type": "code",
   "execution_count": 117,
   "metadata": {},
   "outputs": [],
   "source": [
    "df.loc[df['ID'] == 76, 'Age Rating'] = \"PG-13\"\n",
    "df.loc[df['ID'] == 108, 'Age Rating'] = \"R\"\n",
    "df.loc[df['ID'] == 133, 'Age Rating'] = \"PG\"\n",
    "df.loc[df['ID'] == 133, 'Genres'] = \"Family, Comedy\"\n",
    "df.loc[df['ID'] == 173, 'Age Rating'] = \"R\"\n",
    "df.loc[df['ID'] == 173, 'Genres'] = \"Crime, Drama\"\n",
    "df.loc[df['ID'] == 192, 'Age Rating'] = \"PG\"\n",
    "df.loc[df['ID'] == 192, 'Genres'] = \"Action, Family\"\n",
    "df.loc[df['ID'] == 262, 'Age Rating'] = \"PG-13\"\n",
    "df.loc[df['ID'] == 262, 'Genres'] = \"Documentary, Comedy\"\n",
    "df.loc[df['ID'] == 303, 'Age Rating'] = \"PG-13\"\n",
    "df.loc[df['ID'] == 318, 'Age Rating'] = \"PG\"\n",
    "df.loc[df['ID'] == 318, 'Genres'] = \"Action, Adventure\"\n",
    "df.loc[df['ID'] == 430, 'Age Rating'] = \"R\"\n",
    "df.loc[df['ID'] == 443, 'Age Rating'] = \"R\"\n",
    "df.loc[df['ID'] == 443, 'Genres'] = \"Comedy, Romance\"\n",
    "df.loc[df['ID'] == 444, 'Age Rating'] = \"PG\"\n",
    "df.loc[df['ID'] == 444, 'Genres'] = \"Family, Comedy\"\n",
    "df.loc[df['ID'] == 459, 'Age Rating'] = \"PG-13\"\n",
    "df.loc[df['ID'] == 481, 'Age Rating'] = \"PG\"\n",
    "df.loc[df['ID'] == 491, 'Age Rating'] = \"R\"\n",
    "df.loc[df['ID'] == 491, 'Genres'] = \"Comedy, Drama\"\n",
    "df.loc[df['ID'] == 573, 'Age Rating'] = \"R\"\n",
    "df.loc[df['ID'] == 573, 'Genres'] = \"Horror, Thriller\"\n",
    "df.loc[df['ID'] == 617, 'Age Rating'] = \"PG-13\"\n",
    "df.loc[df['ID'] == 617, 'Genres'] = \"Comedy, Horror\"\n",
    "df.loc[df['ID'] == 653, 'Age Rating'] = \"R\"\n",
    "df.loc[df['ID'] == 653, 'Genres'] = \"Action, Drama\"\n",
    "df.loc[df['ID'] == 740, 'Age Rating'] = \"PG\"\n",
    "df.loc[df['ID'] == 755, 'Age Rating'] = \"R\"\n",
    "df.loc[df['ID'] == 755, 'Genres'] = \"Horror, Thriller\"\n",
    "df.loc[df['ID'] == 846, 'Age Rating'] = \"PG-13\"\n",
    "df.loc[df['ID'] == 846, 'Genres'] = \"Drama, Mystery\"\n",
    "df.loc[df['ID'] == 866, 'Age Rating'] = \"R\"\n",
    "df.loc[df['ID'] == 900, 'Age Rating'] = \"PG-13\"\n",
    "df.loc[df['ID'] == 900, 'Genres'] = \"Drama, Horror\"\n",
    "df.loc[df['ID'] == 1052, 'Age Rating'] = \"PG-13\"\n",
    "df.loc[df['ID'] == 1052, 'Genres'] = \"Action, Adventure\"\n",
    "df.loc[df['ID'] == 1062, 'Age Rating'] = \"R\"\n",
    "df.loc[df['ID'] == 1062, 'Genres'] = \"Action, Drama\"\n",
    "df.loc[df['ID'] == 1093, 'Age Rating'] = \"PG-13\"\n",
    "df.loc[df['ID'] == 1093, 'Genres'] = \"Action, Adventure\"\n",
    "df.loc[df['ID'] == 1179, 'Age Rating'] = \"R\"\n",
    "df.loc[df['ID'] == 1335, 'Age Rating'] = \"R\"\n",
    "df.loc[df['ID'] == 1335, 'Genres'] = \"Horror\"\n",
    "df.loc[df['ID'] == 1375, 'Age Rating'] = \"PG-13\"\n",
    "df.loc[df['ID'] == 1375, 'Genres'] = \"Action, Adventure\"\n",
    "df.loc[df['ID'] == 1446, 'Age Rating'] = \"PG-13\"\n",
    "df.loc[df['ID'] == 1446, 'Genres'] = \"Action, Comedy\"\n",
    "df.loc[df['ID'] == 1505, 'Age Rating'] = \"PG-13\"\n",
    "df.loc[df['ID'] == 1521, 'Age Rating'] = \"PG-13\"\n",
    "df.loc[df['ID'] == 1576, 'Age Rating'] = \"R\"\n",
    "df.loc[df['ID'] == 1701, 'Age Rating'] = \"PG-13\"\n",
    "df.loc[df['ID'] == 1701, 'Genres'] = \"Action, Adventure\"\n",
    "df.loc[df['ID'] == 1718, 'Age Rating'] = \"R\"\n",
    "df.loc[df['ID'] == 1718, 'Genres'] = \"Action, Comedy\"\n",
    "df.loc[df['ID'] == 1803, 'Age Rating'] = \"PG\"\n",
    "df.loc[df['ID'] == 1803, 'Age Rating'] = \"PG\"\n",
    "df.loc[df['ID'] == 1803, 'Genres'] = \"Animated, Adventure\"\n",
    "df.loc[df['ID'] == 1818, 'Age Rating'] = \"R\"\n",
    "df.loc[df['ID'] == 1818, 'Genres'] = \"Horror, Thriller\"\n",
    "df.loc[df['ID'] == 1834, 'Age Rating'] = \"PG\"\n",
    "df.loc[df['ID'] == 1834, 'Genres'] = \"Animated, Adventure\"\n",
    "df.loc[df['ID'] == 1841, 'Age Rating'] = \"PG-13\"\n",
    "df.loc[df['ID'] == 1841, 'Genres'] = \"Action, Adventure\"\n",
    "df.loc[df['ID'] == 1885, 'Age Rating'] = \"PG-13\"\n",
    "df.loc[df['ID'] == 1900, 'Age Rating'] = \"PG\"\n",
    "df.loc[df['ID'] == 1900, 'Genres'] = \"Animated, Adventure\"\n",
    "df.loc[df['ID'] == 1951, 'Age Rating'] = \"PG-13\"\n",
    "df.loc[df['ID'] == 1951, 'Genres'] = \"Comdey\"\n",
    "df.loc[df['ID'] == 1985, 'Age Rating'] = \"PG-13\"\n",
    "df.loc[df['ID'] == 1985, 'Genres'] = \"Crime, Comedy\"\n"
   ]
  },
  {
   "cell_type": "code",
   "execution_count": 118,
   "metadata": {},
   "outputs": [
    {
     "data": {
      "text/plain": [
       "ID                            0\n",
       "Title                         0\n",
       "Directed by                   0\n",
       "Produced by                   1\n",
       "Cinematography               82\n",
       "Country                     450\n",
       "Running Time (int)            4\n",
       "Release Date (datetime)       0\n",
       "Distributed by                4\n",
       "Language                    145\n",
       "Written by                   10\n",
       "Starring                     11\n",
       "Edited by                     9\n",
       "Music by                     74\n",
       "Production companies         33\n",
       "Based on                   1035\n",
       "Story by                   1546\n",
       "Box Office (float)            0\n",
       "Release Year                  0\n",
       "Trailer ID                    0\n",
       "Trailer Title                88\n",
       "SentimentScore              185\n",
       "Budget (float)                0\n",
       "Box Office Status             0\n",
       "Age Rating                    6\n",
       "Genres                        4\n",
       "dtype: int64"
      ]
     },
     "execution_count": 118,
     "metadata": {},
     "output_type": "execute_result"
    }
   ],
   "source": [
    "df.isnull().sum()"
   ]
  },
  {
   "cell_type": "code",
   "execution_count": 119,
   "metadata": {},
   "outputs": [
    {
     "data": {
      "text/plain": [
       "array(['R', 'PG', 'Not Rated', 'PG-13', 'G', nan, 'NC-17'], dtype=object)"
      ]
     },
     "execution_count": 119,
     "metadata": {},
     "output_type": "execute_result"
    }
   ],
   "source": [
    "df['Age Rating'].unique()"
   ]
  },
  {
   "cell_type": "markdown",
   "metadata": {},
   "source": [
    "Replace TV Ratings With Movie Ones"
   ]
  },
  {
   "cell_type": "code",
   "execution_count": 120,
   "metadata": {},
   "outputs": [],
   "source": [
    "df['Age Rating'] = df['Age Rating'].replace('Unrated', 'Not Rated')\n",
    "df['Age Rating'] = df['Age Rating'].replace('TV-G', 'PG')\n",
    "df['Age Rating'] = df['Age Rating'].replace('TV-MA', 'R')\n",
    "df['Age Rating'] = df['Age Rating'].replace('TV-14', 'PG-13')\n",
    "df['Age Rating'] = df['Age Rating'].replace('TV-PG', 'PG')"
   ]
  },
  {
   "cell_type": "code",
   "execution_count": 121,
   "metadata": {},
   "outputs": [
    {
     "name": "stdout",
     "output_type": "stream",
     "text": [
      "Empty DataFrame\n",
      "Columns: [Title, ID, Release Year]\n",
      "Index: []\n"
     ]
    }
   ],
   "source": [
    "rating = 'TV-PG'\n",
    "filtered_df = df[df['Age Rating'] == rating][['Title', 'ID', 'Release Year']]\n",
    "print(filtered_df)"
   ]
  },
  {
   "cell_type": "code",
   "execution_count": 122,
   "metadata": {},
   "outputs": [
    {
     "data": {
      "text/plain": [
       "array(['R', 'PG', 'Not Rated', 'PG-13', 'G', nan, 'NC-17'], dtype=object)"
      ]
     },
     "execution_count": 122,
     "metadata": {},
     "output_type": "execute_result"
    }
   ],
   "source": [
    "df['Age Rating'].unique()"
   ]
  },
  {
   "cell_type": "code",
   "execution_count": 123,
   "metadata": {},
   "outputs": [
    {
     "data": {
      "text/plain": [
       "ID                            0\n",
       "Title                         0\n",
       "Directed by                   0\n",
       "Produced by                   1\n",
       "Cinematography               82\n",
       "Country                     450\n",
       "Running Time (int)            4\n",
       "Release Date (datetime)       0\n",
       "Distributed by                4\n",
       "Language                    145\n",
       "Written by                   10\n",
       "Starring                     11\n",
       "Edited by                     9\n",
       "Music by                     74\n",
       "Production companies         33\n",
       "Based on                   1035\n",
       "Story by                   1546\n",
       "Box Office (float)            0\n",
       "Release Year                  0\n",
       "Trailer ID                    0\n",
       "Trailer Title                88\n",
       "SentimentScore              185\n",
       "Budget (float)                0\n",
       "Box Office Status             0\n",
       "Age Rating                    6\n",
       "Genres                        4\n",
       "dtype: int64"
      ]
     },
     "execution_count": 123,
     "metadata": {},
     "output_type": "execute_result"
    }
   ],
   "source": [
    "df.isnull().sum()"
   ]
  },
  {
   "cell_type": "code",
   "execution_count": 124,
   "metadata": {},
   "outputs": [],
   "source": [
    "df.to_csv('MovieDataset.csv', index=False)"
   ]
  }
 ],
 "metadata": {
  "kernelspec": {
   "display_name": "Python 3",
   "language": "python",
   "name": "python3"
  },
  "language_info": {
   "codemirror_mode": {
    "name": "ipython",
    "version": 3
   },
   "file_extension": ".py",
   "mimetype": "text/x-python",
   "name": "python",
   "nbconvert_exporter": "python",
   "pygments_lexer": "ipython3",
   "version": "3.10.7"
  }
 },
 "nbformat": 4,
 "nbformat_minor": 2
}
