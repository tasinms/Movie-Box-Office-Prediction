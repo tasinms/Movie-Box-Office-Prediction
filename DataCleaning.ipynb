{
 "cells": [
  {
   "cell_type": "markdown",
   "metadata": {},
   "source": [
    "# Data Cleaning"
   ]
  },
  {
   "cell_type": "code",
   "execution_count": 809,
   "metadata": {},
   "outputs": [],
   "source": [
    "import pandas as pd\n",
    "import numpy as np"
   ]
  },
  {
   "cell_type": "code",
   "execution_count": 810,
   "metadata": {},
   "outputs": [
    {
     "data": {
      "text/html": [
       "<div>\n",
       "<style scoped>\n",
       "    .dataframe tbody tr th:only-of-type {\n",
       "        vertical-align: middle;\n",
       "    }\n",
       "\n",
       "    .dataframe tbody tr th {\n",
       "        vertical-align: top;\n",
       "    }\n",
       "\n",
       "    .dataframe thead th {\n",
       "        text-align: right;\n",
       "    }\n",
       "</style>\n",
       "<table border=\"1\" class=\"dataframe\">\n",
       "  <thead>\n",
       "    <tr style=\"text-align: right;\">\n",
       "      <th></th>\n",
       "      <th>ID</th>\n",
       "      <th>Title</th>\n",
       "      <th>Directed by</th>\n",
       "      <th>Produced by</th>\n",
       "      <th>Cinematography</th>\n",
       "      <th>Country</th>\n",
       "      <th>Running Time (int)</th>\n",
       "      <th>Release Date (datetime)</th>\n",
       "      <th>Distributed by</th>\n",
       "      <th>Language</th>\n",
       "      <th>...</th>\n",
       "      <th>Story by</th>\n",
       "      <th>Box Office (float)</th>\n",
       "      <th>Release Year</th>\n",
       "      <th>Trailer ID</th>\n",
       "      <th>Trailer Title</th>\n",
       "      <th>SentimentScore</th>\n",
       "      <th>Budget (float)</th>\n",
       "      <th>Box Office Status</th>\n",
       "      <th>Age Rating</th>\n",
       "      <th>Genres</th>\n",
       "    </tr>\n",
       "  </thead>\n",
       "  <tbody>\n",
       "    <tr>\n",
       "      <th>0</th>\n",
       "      <td>0</td>\n",
       "      <td>Daybreakers</td>\n",
       "      <td>The Spierig Brothers</td>\n",
       "      <td>['Chris Brown', 'Sean Furst', 'Bryan Furst']</td>\n",
       "      <td>Ben Nott</td>\n",
       "      <td>NaN</td>\n",
       "      <td>98.0</td>\n",
       "      <td>2009-09-11</td>\n",
       "      <td>['Lionsgate (United States)', 'Hoyts Distribut...</td>\n",
       "      <td>English</td>\n",
       "      <td>...</td>\n",
       "      <td>NaN</td>\n",
       "      <td>51400000.0</td>\n",
       "      <td>2009</td>\n",
       "      <td>U6NmZS9CTKE</td>\n",
       "      <td>NaN</td>\n",
       "      <td>0.642857</td>\n",
       "      <td>20000000.0</td>\n",
       "      <td>Success</td>\n",
       "      <td>R</td>\n",
       "      <td>Action, Horror, Sci-Fi</td>\n",
       "    </tr>\n",
       "    <tr>\n",
       "      <th>1</th>\n",
       "      <td>1</td>\n",
       "      <td>Leap Year</td>\n",
       "      <td>Anand Tucker</td>\n",
       "      <td>['Gary Barber', 'Chris Bender', 'Roger Birnbau...</td>\n",
       "      <td>Newton Thomas Sigel</td>\n",
       "      <td>NaN</td>\n",
       "      <td>100.0</td>\n",
       "      <td>2010-01-06</td>\n",
       "      <td>['Universal Pictures (United States)', 'Optimu...</td>\n",
       "      <td>English</td>\n",
       "      <td>...</td>\n",
       "      <td>NaN</td>\n",
       "      <td>32700000.0</td>\n",
       "      <td>2010</td>\n",
       "      <td>HrlQBsd8LsE</td>\n",
       "      <td>NaN</td>\n",
       "      <td>0.830000</td>\n",
       "      <td>19000000.0</td>\n",
       "      <td>Failure</td>\n",
       "      <td>PG</td>\n",
       "      <td>Comedy, Romance</td>\n",
       "    </tr>\n",
       "    <tr>\n",
       "      <th>2</th>\n",
       "      <td>2</td>\n",
       "      <td>Youth in Revolt</td>\n",
       "      <td>Miguel Arteta</td>\n",
       "      <td>David Permut</td>\n",
       "      <td>Chuy Chávez</td>\n",
       "      <td>United States</td>\n",
       "      <td>89.0</td>\n",
       "      <td>2009-10-19</td>\n",
       "      <td>Dimension Films</td>\n",
       "      <td>English</td>\n",
       "      <td>...</td>\n",
       "      <td>NaN</td>\n",
       "      <td>19700000.0</td>\n",
       "      <td>2009</td>\n",
       "      <td>1gBnVf130uU</td>\n",
       "      <td>NaN</td>\n",
       "      <td>0.780000</td>\n",
       "      <td>18000000.0</td>\n",
       "      <td>Failure</td>\n",
       "      <td>R</td>\n",
       "      <td>Comedy, Drama, Romance</td>\n",
       "    </tr>\n",
       "    <tr>\n",
       "      <th>3</th>\n",
       "      <td>3</td>\n",
       "      <td>Wonderful World</td>\n",
       "      <td>Joshua Goldin</td>\n",
       "      <td>['Miranda Bailey', 'Matthew Leutwyler', 'Glenn...</td>\n",
       "      <td>Daniel Shulman</td>\n",
       "      <td>United States</td>\n",
       "      <td>89.0</td>\n",
       "      <td>2009-04-27</td>\n",
       "      <td>Magnolia Pictures</td>\n",
       "      <td>English</td>\n",
       "      <td>...</td>\n",
       "      <td>NaN</td>\n",
       "      <td>9309.0</td>\n",
       "      <td>2009</td>\n",
       "      <td>n2_4asPVgOQ</td>\n",
       "      <td>NaN</td>\n",
       "      <td>0.500000</td>\n",
       "      <td>3000000.0</td>\n",
       "      <td>Failure</td>\n",
       "      <td>R</td>\n",
       "      <td>Comedy, Drama, Romance</td>\n",
       "    </tr>\n",
       "    <tr>\n",
       "      <th>4</th>\n",
       "      <td>4</td>\n",
       "      <td>The Book of Eli</td>\n",
       "      <td>The Hughes Brothers</td>\n",
       "      <td>['Joel Silver', 'Denzel Washington', 'Broderic...</td>\n",
       "      <td>Don Burgess</td>\n",
       "      <td>United States</td>\n",
       "      <td>118.0</td>\n",
       "      <td>2010-01-15</td>\n",
       "      <td>['Warner Bros. Pictures', ' (North America)', ...</td>\n",
       "      <td>English</td>\n",
       "      <td>...</td>\n",
       "      <td>NaN</td>\n",
       "      <td>157100000.0</td>\n",
       "      <td>2010</td>\n",
       "      <td>zSMHmtaoXtI</td>\n",
       "      <td>NaN</td>\n",
       "      <td>0.880000</td>\n",
       "      <td>80000000.0</td>\n",
       "      <td>Failure</td>\n",
       "      <td>R</td>\n",
       "      <td>Action, Adventure, Drama</td>\n",
       "    </tr>\n",
       "  </tbody>\n",
       "</table>\n",
       "<p>5 rows × 26 columns</p>\n",
       "</div>"
      ],
      "text/plain": [
       "   ID            Title           Directed by  \\\n",
       "0   0      Daybreakers  The Spierig Brothers   \n",
       "1   1        Leap Year          Anand Tucker   \n",
       "2   2  Youth in Revolt         Miguel Arteta   \n",
       "3   3  Wonderful World         Joshua Goldin   \n",
       "4   4  The Book of Eli   The Hughes Brothers   \n",
       "\n",
       "                                         Produced by       Cinematography  \\\n",
       "0       ['Chris Brown', 'Sean Furst', 'Bryan Furst']             Ben Nott   \n",
       "1  ['Gary Barber', 'Chris Bender', 'Roger Birnbau...  Newton Thomas Sigel   \n",
       "2                                       David Permut          Chuy Chávez   \n",
       "3  ['Miranda Bailey', 'Matthew Leutwyler', 'Glenn...       Daniel Shulman   \n",
       "4  ['Joel Silver', 'Denzel Washington', 'Broderic...          Don Burgess   \n",
       "\n",
       "         Country  Running Time (int) Release Date (datetime)  \\\n",
       "0            NaN                98.0              2009-09-11   \n",
       "1            NaN               100.0              2010-01-06   \n",
       "2  United States                89.0              2009-10-19   \n",
       "3  United States                89.0              2009-04-27   \n",
       "4  United States               118.0              2010-01-15   \n",
       "\n",
       "                                      Distributed by Language  ... Story by  \\\n",
       "0  ['Lionsgate (United States)', 'Hoyts Distribut...  English  ...      NaN   \n",
       "1  ['Universal Pictures (United States)', 'Optimu...  English  ...      NaN   \n",
       "2                                    Dimension Films  English  ...      NaN   \n",
       "3                                  Magnolia Pictures  English  ...      NaN   \n",
       "4  ['Warner Bros. Pictures', ' (North America)', ...  English  ...      NaN   \n",
       "\n",
       "  Box Office (float) Release Year   Trailer ID Trailer Title SentimentScore  \\\n",
       "0         51400000.0         2009  U6NmZS9CTKE           NaN       0.642857   \n",
       "1         32700000.0         2010  HrlQBsd8LsE           NaN       0.830000   \n",
       "2         19700000.0         2009  1gBnVf130uU           NaN       0.780000   \n",
       "3             9309.0         2009  n2_4asPVgOQ           NaN       0.500000   \n",
       "4        157100000.0         2010  zSMHmtaoXtI           NaN       0.880000   \n",
       "\n",
       "  Budget (float)  Box Office Status  Age Rating                    Genres  \n",
       "0     20000000.0            Success           R    Action, Horror, Sci-Fi  \n",
       "1     19000000.0            Failure          PG           Comedy, Romance  \n",
       "2     18000000.0            Failure           R    Comedy, Drama, Romance  \n",
       "3      3000000.0            Failure           R    Comedy, Drama, Romance  \n",
       "4     80000000.0            Failure           R  Action, Adventure, Drama  \n",
       "\n",
       "[5 rows x 26 columns]"
      ]
     },
     "execution_count": 810,
     "metadata": {},
     "output_type": "execute_result"
    }
   ],
   "source": [
    "df = pd.read_csv('MovieDataset.csv')\n",
    "df.head()"
   ]
  },
  {
   "cell_type": "markdown",
   "metadata": {},
   "source": [
    "Add Genre And Age Rating Columns To The Data "
   ]
  },
  {
   "cell_type": "code",
   "execution_count": 811,
   "metadata": {},
   "outputs": [
    {
     "name": "stdout",
     "output_type": "stream",
     "text": [
      "['Ethan Hawke', 'Willem Dafoe', 'Claudia Karvan', 'Michael Dorman', 'Sam Neill', 'Vince Colosimo', 'Isabel Lucas']\n"
     ]
    }
   ],
   "source": [
    "production_companies = df.loc[0, 'Starring']\n",
    "print(production_companies)"
   ]
  },
  {
   "cell_type": "code",
   "execution_count": 812,
   "metadata": {},
   "outputs": [
    {
     "name": "stdout",
     "output_type": "stream",
     "text": [
      "[13, 215, 302, 320, 383, 404, 442, 513, 642, 803]\n"
     ]
    }
   ],
   "source": [
    "rowsWithSentiment1 = df.loc[df['SentimentScore'] == 1.0]\n",
    "rowIDsWithSentiment1 = rowsWithSentiment1.index.tolist()\n",
    "print(rowIDsWithSentiment1)\n"
   ]
  },
  {
   "cell_type": "code",
   "execution_count": 813,
   "metadata": {},
   "outputs": [
    {
     "data": {
      "text/plain": [
       "ID                            0\n",
       "Title                         0\n",
       "Directed by                   0\n",
       "Produced by                   1\n",
       "Cinematography               82\n",
       "Country                     450\n",
       "Running Time (int)            4\n",
       "Release Date (datetime)       0\n",
       "Distributed by                4\n",
       "Language                    145\n",
       "Written by                   10\n",
       "Starring                     11\n",
       "Edited by                     9\n",
       "Music by                     74\n",
       "Production companies         33\n",
       "Based on                   1035\n",
       "Story by                   1546\n",
       "Box Office (float)            0\n",
       "Release Year                  0\n",
       "Trailer ID                    0\n",
       "Trailer Title                88\n",
       "SentimentScore              185\n",
       "Budget (float)                0\n",
       "Box Office Status             0\n",
       "Age Rating                    6\n",
       "Genres                        4\n",
       "dtype: int64"
      ]
     },
     "execution_count": 813,
     "metadata": {},
     "output_type": "execute_result"
    }
   ],
   "source": [
    "df.isnull().sum()"
   ]
  },
  {
   "cell_type": "code",
   "execution_count": 814,
   "metadata": {},
   "outputs": [],
   "source": [
    "df.drop(['Country', 'Story by', 'Music by', 'Based on', 'Story by', 'Trailer ID', 'Trailer Title', 'Genres'], axis=1, inplace=True)\n"
   ]
  },
  {
   "cell_type": "code",
   "execution_count": 815,
   "metadata": {},
   "outputs": [],
   "source": [
    "df.dropna(subset=['SentimentScore'], inplace=True)\n"
   ]
  },
  {
   "cell_type": "code",
   "execution_count": 816,
   "metadata": {},
   "outputs": [
    {
     "data": {
      "text/plain": [
       "ID                           0\n",
       "Title                        0\n",
       "Directed by                  0\n",
       "Produced by                  0\n",
       "Cinematography              30\n",
       "Running Time (int)           3\n",
       "Release Date (datetime)      0\n",
       "Distributed by               3\n",
       "Language                   140\n",
       "Written by                   9\n",
       "Starring                    10\n",
       "Edited by                    9\n",
       "Production companies        29\n",
       "Box Office (float)           0\n",
       "Release Year                 0\n",
       "SentimentScore               0\n",
       "Budget (float)               0\n",
       "Box Office Status            0\n",
       "Age Rating                   5\n",
       "dtype: int64"
      ]
     },
     "execution_count": 816,
     "metadata": {},
     "output_type": "execute_result"
    }
   ],
   "source": [
    "df.isnull().sum()"
   ]
  },
  {
   "cell_type": "code",
   "execution_count": 817,
   "metadata": {},
   "outputs": [
    {
     "name": "stdout",
     "output_type": "stream",
     "text": [
      "        ID                                              Title\n",
      "16      16                                              Ajami\n",
      "20      20                                  Shinjuku Incident\n",
      "24      24                                            Lourdes\n",
      "25      25                                   The Ghost Writer\n",
      "31      31                                          A Prophet\n",
      "72      72                                     Here and There\n",
      "78      78                                       Solitary Man\n",
      "91      91                      Coco Chanel & Igor Stravinsky\n",
      "101    101                                         Wild Grass\n",
      "103    103                                         Love Ranch\n",
      "136    136                                  The Army of Crime\n",
      "164    164                                         Inside Job\n",
      "215    215                                   Barney's Version\n",
      "227    227                                           Mooz-lum\n",
      "234    234                                            Beastly\n",
      "262    262  POM Wonderful Presents: The Greatest Movie Eve...\n",
      "294    294                                   The Perfect Host\n",
      "328    328                       I Don't Know How She Does It\n",
      "391    391                                             Pariah\n",
      "393    393                                       A Separation\n",
      "479    479                                          Last Ride\n",
      "484    484                                 Farewell, My Queen\n",
      "618    618                                          Java Heat\n",
      "779    779                                            50 to 1\n",
      "810    810             America: Imagine the World Without Her\n",
      "846    846         Atlas Shrugged Part III: Who Is John Galt?\n",
      "1000  1000                                    The Perfect Guy\n",
      "1188  1188                                    I'm Not Ashamed\n",
      "1476  1476                                           Dog Days\n"
     ]
    }
   ],
   "source": [
    "column = 'Production companies'\n",
    "showNullIDs = df[df[column].isnull()][['ID', 'Title']]\n",
    "print(showNullIDs)"
   ]
  },
  {
   "cell_type": "markdown",
   "metadata": {},
   "source": [
    "Fill in Missing Production Companies"
   ]
  },
  {
   "cell_type": "code",
   "execution_count": 818,
   "metadata": {},
   "outputs": [],
   "source": [
    "df.loc[df['ID'] == 16, 'Production companies'] = \"['Inosan productions', 'Twenty Twenty Vision Filmproduktion GmbH', 'ARTE', 'Vertigo Films']\"\n",
    "df.loc[df['ID'] == 20, 'Production companies'] = 'Emperor Dragon Movies'\n",
    "df.loc[df['ID'] == 24, 'Production companies'] = \"['ARTE', 'Canal+', 'Coop99 Filmproduktion']\"\n",
    "df.loc[df['ID'] == 25, 'Production companies'] = \"['R.P. Productions', 'France 2 Cinéma', 'Studio Babelsberg']\"\n",
    "df.loc[df['ID'] == 31, 'Production companies'] = \"['Why Not Productions', 'Chic Films', 'Page 114']\"\n",
    "df.loc[df['ID'] == 72, 'Production companies'] = \"['KinoKamera', 'Here and There Productions', 'Joroni Film']\"\n",
    "df.loc[df['ID'] == 78, 'Production companies'] = \"['Millennium Films', 'Paul Schiff Productions', 'Smartest Man Productions']\"\n",
    "df.loc[df['ID'] == 91, 'Production companies'] = \"['Eurowide Film Production', 'Hexagon Pictures', 'Filmazure']\"\n",
    "df.loc[df['ID'] == 101, 'Production companies'] = \"['F Comme Film', 'StudioCanal', 'France 2 Cinéma']\"\n",
    "df.loc[df['ID'] == 101, 'Production companies'] = \"['F Comme Film', 'StudioCanal', 'France 2 Cinéma']\"\n",
    "df.loc[df['ID'] == 103, 'Production companies'] = \"['Aramid Entertainment Fund', 'Film & Entertainment VIP Medienfonds 3 GmbH & Co. KG', 'Rising Star']\"\n",
    "df.loc[df['ID'] == 136, 'Production companies'] = \"['Agat Films & Cie', 'StudioCanal', 'France 3 Cinéma']\"\n",
    "df.loc[df['ID'] == 215, 'Production companies'] = \"['Serendipity Point Films', 'Fandango', 'Lyla Films']\"\n",
    "df.loc[df['ID'] == 227, 'Production companies'] = \"['Q Productions', 'Ameena Sky Media', 'Peace Film']\"\n",
    "df.loc[df['ID'] == 262, 'Production companies'] = \"['Snoot Entertainment', 'Warrior Poets']\"\n",
    "df.loc[df['ID'] == 294, 'Production companies'] = \"['Stacey Testro International', 'Mark Victor Productions', 'Perfect Host']\"\n",
    "df.loc[df['ID'] == 328, 'Production companies'] = 'The Weinstein Company'\n",
    "df.loc[df['ID'] == 391, 'Production companies'] = \"['Chicken And Egg Pictures', 'MBK Entertainment', 'Northstar Pictures']\"\n",
    "df.loc[df['ID'] == 393, 'Production companies'] = \"['Asghar Farhadi Productions', 'Dreamlab Films', 'MPA APSA Academy Film Fund']\"\n",
    "df.loc[df['ID'] == 479, 'Production companies'] = \"['Australian Film Finance Corporation (AFFC)', 'Film Victoria', 'Last Ride']\"\n",
    "df.loc[df['ID'] == 484, 'Production companies'] = \"['GMT Productions', 'Les Films du Lendemain', 'Morena Films']\"\n",
    "df.loc[df['ID'] == 618, 'Production companies'] = \"['Margate House Films', 'Margate House']\"\n",
    "df.loc[df['ID'] == 779, 'Production companies'] = 'Ten Furlongs'\n",
    "df.loc[df['ID'] == 846, 'Production companies'] = 'Atlas 3 Productions'\n",
    "df.loc[df['ID'] == 1000, 'Production companies'] = \"['Confluential Films', 'Rocklin/Faust', 'Screen Gems']\"\n",
    "df.loc[df['ID'] == 1188, 'Production companies'] = \"['Visible Pictures(II)', 'Big Film Factory']\"\n",
    "df.loc[df['ID'] == 1476, 'Production companies'] = 'LD Entertainment'"
   ]
  },
  {
   "cell_type": "markdown",
   "metadata": {},
   "source": [
    "Fill in Missing Editors"
   ]
  },
  {
   "cell_type": "code",
   "execution_count": 819,
   "metadata": {},
   "outputs": [],
   "source": [
    "df.loc[df['ID'] == 19, 'Edited by'] = \"['Stéphane Garnier', 'Julien Rey']\"\n",
    "df.loc[df['ID'] == 72, 'Edited by'] = 'Dejan Urosevic'\n",
    "df.loc[df['ID'] == 73, 'Edited by'] = 'Beverley Mills'\n",
    "df.loc[df['ID'] == 227, 'Edited by'] = \"['Christopher Scott', 'Cherot']\"\n",
    "df.loc[df['ID'] == 260, 'Edited by'] = 'Martin Elsbury'\n",
    "df.loc[df['ID'] == 423, 'Edited by'] = \"['Molle DeBartolo', 'Andrew Pang', 'Anthony Raffaele', 'Jonathan Sanden', 'Darrell R. Smith', 'John Woo']\"\n",
    "df.loc[df['ID'] == 779, 'Edited by'] = 'Ben Callahan'\n",
    "df.loc[df['ID'] == 1872, 'Edited by'] = \"['Ankur Agrawal', 'Keith Brachmann']\""
   ]
  },
  {
   "cell_type": "markdown",
   "metadata": {},
   "source": [
    "Fill in Missing Starring"
   ]
  },
  {
   "cell_type": "code",
   "execution_count": 820,
   "metadata": {},
   "outputs": [],
   "source": [
    "df.loc[df['ID'] == 563, 'Starring'] = \"['Erica Linz', 'Igor Zaripov', 'Lutz Halbhubner', 'John Clarke', 'Dallas Barnett']\""
   ]
  },
  {
   "cell_type": "markdown",
   "metadata": {},
   "source": [
    "Fill in Missing Cinematographers"
   ]
  },
  {
   "cell_type": "code",
   "execution_count": 821,
   "metadata": {},
   "outputs": [],
   "source": [
    "df.loc[df['ID'] == 27, 'Cinematography'] = 'Seamus Tierney'\n",
    "df.loc[df['ID'] == 73, 'Cinematography'] = 'Gabriel Beristain'\n",
    "df.loc[df['ID'] == 211, 'Cinematography'] = 'Dick Pope'\n",
    "df.loc[df['ID'] == 227, 'Cinematography'] = 'Ian Dudley'\n",
    "df.loc[df['ID'] == 260, 'Cinematography'] = 'Sophie Darlington'\n",
    "df.loc[df['ID'] == 481, 'Cinematography'] = 'Sarah Weinstein'\n",
    "df.loc[df['ID'] == 779, 'Cinematography'] = 'Tim Suhrstedt'\n",
    "df.loc[df['ID'] == 1231, 'Cinematography'] = 'Henry Adebonojo'\n",
    "df.loc[df['ID'] == 1266, 'Cinematography'] = 'Justin Maguire'\n",
    "df.loc[df['ID'] == 1387, 'Cinematography'] = 'Paul Thomas Anderson'\n",
    "df.loc[df['ID'] == 1724, 'Cinematography'] = 'Chris Darnell'"
   ]
  },
  {
   "cell_type": "markdown",
   "metadata": {},
   "source": [
    "Fill In Missing Running Times"
   ]
  },
  {
   "cell_type": "code",
   "execution_count": 822,
   "metadata": {},
   "outputs": [],
   "source": [
    "df.loc[df['ID'] == 72, 'Running Time (int)'] = 85.0\n",
    "df.loc[df['ID'] == 713, 'Running Time (int)'] = 118.0\n",
    "df.loc[df['ID'] == 1872, 'Running Time (int)'] = 119.0"
   ]
  },
  {
   "cell_type": "markdown",
   "metadata": {},
   "source": [
    "Fill In Missing Language"
   ]
  },
  {
   "cell_type": "code",
   "execution_count": 823,
   "metadata": {},
   "outputs": [],
   "source": [
    "df.loc[df['ID'] == 16, 'Language'] = 'Arabic'"
   ]
  },
  {
   "cell_type": "markdown",
   "metadata": {},
   "source": [
    "Fill In Missing Distributors"
   ]
  },
  {
   "cell_type": "code",
   "execution_count": 824,
   "metadata": {},
   "outputs": [],
   "source": [
    "df.loc[df['ID'] == 16, 'Distributed by'] = 'Kino International'\n",
    "df.loc[df['ID'] == 30, 'Distributed by'] = 'Screen Media Films'\n",
    "df.loc[df['ID'] == 779, 'Distributed by'] = 'Ten Furlongs'"
   ]
  },
  {
   "cell_type": "markdown",
   "metadata": {},
   "source": [
    "Fill Null Languages With English"
   ]
  },
  {
   "cell_type": "code",
   "execution_count": 825,
   "metadata": {},
   "outputs": [
    {
     "name": "stderr",
     "output_type": "stream",
     "text": [
      "C:\\Users\\tasin\\AppData\\Local\\Temp\\ipykernel_18008\\1857735874.py:1: FutureWarning: A value is trying to be set on a copy of a DataFrame or Series through chained assignment using an inplace method.\n",
      "The behavior will change in pandas 3.0. This inplace method will never work because the intermediate object on which we are setting values always behaves as a copy.\n",
      "\n",
      "For example, when doing 'df[col].method(value, inplace=True)', try using 'df.method({col: value}, inplace=True)' or df[col] = df[col].method(value) instead, to perform the operation inplace on the original object.\n",
      "\n",
      "\n",
      "  df['Language'].fillna('English', inplace=True)\n"
     ]
    }
   ],
   "source": [
    "df['Language'].fillna('English', inplace=True)\n"
   ]
  },
  {
   "cell_type": "code",
   "execution_count": 826,
   "metadata": {},
   "outputs": [
    {
     "data": {
      "text/plain": [
       "ID                          0\n",
       "Title                       0\n",
       "Directed by                 0\n",
       "Produced by                 0\n",
       "Cinematography             19\n",
       "Running Time (int)          0\n",
       "Release Date (datetime)     0\n",
       "Distributed by              0\n",
       "Language                    0\n",
       "Written by                  9\n",
       "Starring                    9\n",
       "Edited by                   1\n",
       "Production companies        3\n",
       "Box Office (float)          0\n",
       "Release Year                0\n",
       "SentimentScore              0\n",
       "Budget (float)              0\n",
       "Box Office Status           0\n",
       "Age Rating                  5\n",
       "dtype: int64"
      ]
     },
     "execution_count": 826,
     "metadata": {},
     "output_type": "execute_result"
    }
   ],
   "source": [
    "df.isnull().sum()"
   ]
  },
  {
   "cell_type": "markdown",
   "metadata": {},
   "source": [
    "Remove Rows With Null Values"
   ]
  },
  {
   "cell_type": "code",
   "execution_count": 827,
   "metadata": {},
   "outputs": [],
   "source": [
    "df.dropna(subset=['Cinematography'], inplace=True)\n",
    "df.dropna(subset=['Written by'], inplace=True)\n",
    "df.dropna(subset=['Starring'], inplace=True)\n",
    "df.dropna(subset=['Edited by'], inplace=True)\n",
    "df.dropna(subset=['Production companies'], inplace=True)\n",
    "df.dropna(subset=['Age Rating'], inplace=True)"
   ]
  },
  {
   "cell_type": "code",
   "execution_count": 828,
   "metadata": {},
   "outputs": [
    {
     "data": {
      "text/plain": [
       "ID                         0\n",
       "Title                      0\n",
       "Directed by                0\n",
       "Produced by                0\n",
       "Cinematography             0\n",
       "Running Time (int)         0\n",
       "Release Date (datetime)    0\n",
       "Distributed by             0\n",
       "Language                   0\n",
       "Written by                 0\n",
       "Starring                   0\n",
       "Edited by                  0\n",
       "Production companies       0\n",
       "Box Office (float)         0\n",
       "Release Year               0\n",
       "SentimentScore             0\n",
       "Budget (float)             0\n",
       "Box Office Status          0\n",
       "Age Rating                 0\n",
       "dtype: int64"
      ]
     },
     "execution_count": 828,
     "metadata": {},
     "output_type": "execute_result"
    }
   ],
   "source": [
    "df.isnull().sum()"
   ]
  },
  {
   "cell_type": "markdown",
   "metadata": {},
   "source": [
    "Convert Strings To List"
   ]
  },
  {
   "cell_type": "code",
   "execution_count": 829,
   "metadata": {},
   "outputs": [],
   "source": [
    "# Function to Check if a Value Is a String\n",
    "def isString(value):\n",
    "    return isinstance(value, str)\n",
    "\n",
    "# Apply the Function to Create a Boolean Mask\n",
    "maskStarring = df['Starring'].apply(isString)\n",
    "maskDirectedBy = df['Directed by'].apply(isString)\n",
    "maskProducedBy = df['Produced by'].apply(isString)\n",
    "maskCinematography = df['Cinematography'].apply(isString)\n",
    "maskDistributedBy = df['Distributed by'].apply(isString)\n",
    "maskWrittenBy = df['Written by'].apply(isString)\n",
    "maskEditedBy = df['Edited by'].apply(isString)\n",
    "maskProductionCompanies = df['Production companies'].apply(isString)\n",
    "\n",
    "# Function to convert string to list\n",
    "def stringToList(value):\n",
    "    if value.startswith(\"[\") and value.endswith(\"]\"):\n",
    "        return eval(value)\n",
    "    else:\n",
    "        return [value]\n",
    "\n",
    "# Apply stringToList() Only to the Elements That Are Strings\n",
    "df.loc[maskStarring, 'Starring'] = df.loc[maskStarring, 'Starring'].apply(stringToList)\n",
    "df.loc[maskDirectedBy, 'Directed by'] = df.loc[maskDirectedBy, 'Directed by'].apply(stringToList)\n",
    "df.loc[maskProducedBy, 'Produced by'] = df.loc[maskProducedBy, 'Produced by'].apply(stringToList)\n",
    "df.loc[maskCinematography, 'Cinematography'] = df.loc[maskCinematography, 'Cinematography'].apply(stringToList)\n",
    "df.loc[maskDistributedBy, 'Distributed by'] = df.loc[maskDistributedBy, 'Distributed by'].apply(stringToList)\n",
    "df.loc[maskWrittenBy, 'Written by'] = df.loc[maskWrittenBy, 'Written by'].apply(stringToList)\n",
    "df.loc[maskEditedBy, 'Edited by'] = df.loc[maskEditedBy, 'Edited by'].apply(stringToList)\n",
    "df.loc[maskProductionCompanies, 'Production companies'] = df.loc[maskProductionCompanies, 'Production companies'].apply(stringToList)"
   ]
  },
  {
   "cell_type": "code",
   "execution_count": 830,
   "metadata": {},
   "outputs": [
    {
     "name": "stdout",
     "output_type": "stream",
     "text": [
      "      ID                   Title                      Directed by  \\\n",
      "78    78            Solitary Man  [Brian Koppelman, David Levien]   \n",
      "271  271      Something Borrowed                [Luke Greenfield]   \n",
      "294  294        The Perfect Host                [Nicholas Tomnay]   \n",
      "436  436  The Cabin in the Woods                   [Drew Goddard]   \n",
      "667  667         The World's End                   [Edgar Wright]   \n",
      "\n",
      "                                           Produced by      Cinematography  \\\n",
      "78   [Moshe Diamant, Danny Dimbort, Joe Gatta,  , J...  [Alwin H. Küchler]   \n",
      "271  [Hilary Swank, Molly Smith, Broderick Johnson,...    [Charles Minsky]   \n",
      "294                       [Mark Victor, Stacey Testro]      [John Brawley]   \n",
      "436                                      [Joss Whedon]      [Peter Deming]   \n",
      "667               [Nira Park, Tim Bevan, Eric Fellner]         [Bill Pope]   \n",
      "\n",
      "     Running Time (int) Release Date (datetime)  \\\n",
      "78                 90.0     2010-05-07 00:00:00   \n",
      "271               112.0     2011-05-06 00:00:00   \n",
      "294                92.0     2011-07-01 00:00:00   \n",
      "436                95.0     2012-04-13 00:00:00   \n",
      "667               109.0     2013-08-23 00:00:00   \n",
      "\n",
      "                                        Distributed by Language  \\\n",
      "78        [Millennium Films, Smartest Man Productions]  English   \n",
      "271  [Warner Bros. Pictures,  (North America and Fr...  English   \n",
      "294                                [Magnolia Pictures]  English   \n",
      "436                                        [Lionsgate]  English   \n",
      "667  [Focus Features (United States), Universal Pic...  English   \n",
      "\n",
      "                           Written by  \\\n",
      "78                  [Brian Koppelman]   \n",
      "271             [Jennie Snyder Urman]   \n",
      "294  [Nicholas Tomnay, Krishna Jones]   \n",
      "436       [Joss Whedon, Drew Goddard]   \n",
      "667        [Simon Pegg, Edgar Wright]   \n",
      "\n",
      "                                              Starring          Edited by  \\\n",
      "78   [Michael Douglas, Jenna Fischer, Jesse Eisenbe...     [Tricia Cooke]   \n",
      "271  [Kate Hudson, Ginnifer Goodwin, John Krasinski...     [John Axelrad]   \n",
      "294  [David Hyde Pierce, Clayne Crawford, Helen Reddy]  [Nicholas Tomnay]   \n",
      "436  [Kristen Connolly, Chris Hemsworth, Anna Hutch...      [Lisa Lassek]   \n",
      "667  [Simon Pegg, Nick Frost, Paddy Considine, Mart...    [Paul Machliss]   \n",
      "\n",
      "                                  Production companies  Box Office (float)  \\\n",
      "78   [Millennium Films, Paul Schiff Productions, Sm...           5680000.0   \n",
      "271                    [Alcon Entertainment, 2S Films]          60100000.0   \n",
      "294  [Stacey Testro International, Mark Victor Prod...            454000.0   \n",
      "436                         [Mutant Enemy Productions]          66500000.0   \n",
      "667  [Relativity Media, Working Title Films, Big Ta...          46100000.0   \n",
      "\n",
      "     Release Year  SentimentScore  Budget (float) Box Office Status Age Rating  \n",
      "78           2010        0.473684      15000000.0           Failure          R  \n",
      "271          2011        0.490000      35000000.0           Failure      PG-13  \n",
      "294          2011        0.703704        500000.0           Failure          R  \n",
      "436          2012        0.740000      30000000.0           Failure          R  \n",
      "667          2013        0.800000      20000000.0           Success          R  \n"
     ]
    }
   ],
   "source": [
    "# See What DateTime Rows are Causing Errors\n",
    "errors = pd.to_datetime(df['Release Date (datetime)'], errors='coerce').isnull()\n",
    "rowsWithErrors = df[errors]\n",
    "print(rowsWithErrors)"
   ]
  },
  {
   "cell_type": "code",
   "execution_count": 831,
   "metadata": {},
   "outputs": [],
   "source": [
    "df.loc[df['ID'] == 78, 'Release Date (datetime)'] = '2010-05-07'\n",
    "df.loc[df['ID'] == 271, 'Release Date (datetime)'] = '2011-05-06'\n",
    "df.loc[df['ID'] == 294, 'Release Date (datetime)'] = '2011-07-01'\n",
    "df.loc[df['ID'] == 436, 'Release Date (datetime)'] = '2012-04-13'\n",
    "df.loc[df['ID'] == 667, 'Release Date (datetime)'] = '2013-08-23'"
   ]
  },
  {
   "cell_type": "code",
   "execution_count": 832,
   "metadata": {},
   "outputs": [
    {
     "name": "stdout",
     "output_type": "stream",
     "text": [
      "ID                                                                        79\n",
      "Title                                                     Sex and the City 2\n",
      "Directed by                                           [Michael Patrick King]\n",
      "Produced by                [Michael Patrick King, Sarah Jessica Parker, D...\n",
      "Cinematography                                                 [John Thomas]\n",
      "Running Time (int)                                                     146.0\n",
      "Release Date (datetime)                                           2010-05-27\n",
      "Distributed by                                       [Warner Bros. Pictures]\n",
      "Language                                                             English\n",
      "Written by                                            [Michael Patrick King]\n",
      "Starring                   [Sarah Jessica Parker, Kim Cattrall, Kristin D...\n",
      "Edited by                                                [Michael Berenbaum]\n",
      "Production companies       [New Line Cinema, HBO Films, Village Roadshow ...\n",
      "Box Office (float)                                               294700000.0\n",
      "Release Year                                                            2010\n",
      "SentimentScore                                                      0.442105\n",
      "Budget (float)                                                    95000000.0\n",
      "Box Office Status                                                    Success\n",
      "Age Rating                                                                 R\n",
      "Name: 79, dtype: object\n"
     ]
    }
   ],
   "source": [
    "value = df.iloc[69]\n",
    "print(value)"
   ]
  },
  {
   "cell_type": "code",
   "execution_count": 833,
   "metadata": {},
   "outputs": [],
   "source": [
    "# Convert Release Date to DateTime\n",
    "df['Release Date (datetime)'] = pd.to_datetime(df['Release Date (datetime)'], format='%Y-%m-%d')"
   ]
  },
  {
   "cell_type": "code",
   "execution_count": 834,
   "metadata": {},
   "outputs": [
    {
     "name": "stdout",
     "output_type": "stream",
     "text": [
      "<class 'pandas._libs.tslibs.timestamps.Timestamp'>\n"
     ]
    }
   ],
   "source": [
    "# Check the Data Type of the Release Date Column in the 11th Row\n",
    "releaseDate = df.loc[11, 'Release Date (datetime)']\n",
    "print(type(releaseDate))"
   ]
  },
  {
   "cell_type": "markdown",
   "metadata": {},
   "source": [
    "Rename Some Columns"
   ]
  },
  {
   "cell_type": "code",
   "execution_count": 835,
   "metadata": {},
   "outputs": [],
   "source": [
    "df.rename(columns={'Budget (float)': 'Budget'}, inplace=True)\n",
    "df.rename(columns={'Box Office (float)': 'Box Office'}, inplace=True)\n",
    "df.rename(columns={'Running Time (int)': 'Runtime'}, inplace=True)\n",
    "df.rename(columns={'Starring': 'Cast'}, inplace=True)"
   ]
  },
  {
   "cell_type": "markdown",
   "metadata": {},
   "source": [
    "Convert Columns To Integers"
   ]
  },
  {
   "cell_type": "code",
   "execution_count": 836,
   "metadata": {},
   "outputs": [],
   "source": [
    "df['Box Office'] = df['Box Office'].astype('int64')\n",
    "df['Budget'] = df['Budget'].astype('int64')\n",
    "df['Runtime'] = df['Runtime'].astype('int64')"
   ]
  },
  {
   "cell_type": "code",
   "execution_count": 837,
   "metadata": {
    "vscode": {
     "languageId": "ruby"
    }
   },
   "outputs": [],
   "source": [
    "# Extract Month and Day from Release Date\n",
    "df['Release Day'] = df['Release Date (datetime)'].dt.day\n",
    "df['Release Month'] = df['Release Date (datetime)'].dt.month"
   ]
  },
  {
   "cell_type": "code",
   "execution_count": 838,
   "metadata": {
    "vscode": {
     "languageId": "ruby"
    }
   },
   "outputs": [
    {
     "name": "stdout",
     "output_type": "stream",
     "text": [
      "<class 'pandas.core.frame.DataFrame'>\n",
      "Index: 1768 entries, 0 to 1994\n",
      "Data columns (total 21 columns):\n",
      " #   Column                   Non-Null Count  Dtype         \n",
      "---  ------                   --------------  -----         \n",
      " 0   ID                       1768 non-null   int64         \n",
      " 1   Title                    1768 non-null   object        \n",
      " 2   Directed by              1768 non-null   object        \n",
      " 3   Produced by              1768 non-null   object        \n",
      " 4   Cinematography           1768 non-null   object        \n",
      " 5   Runtime                  1768 non-null   int64         \n",
      " 6   Release Date (datetime)  1768 non-null   datetime64[ns]\n",
      " 7   Distributed by           1768 non-null   object        \n",
      " 8   Language                 1768 non-null   object        \n",
      " 9   Written by               1768 non-null   object        \n",
      " 10  Cast                     1768 non-null   object        \n",
      " 11  Edited by                1768 non-null   object        \n",
      " 12  Production companies     1768 non-null   object        \n",
      " 13  Box Office               1768 non-null   int64         \n",
      " 14  Release Year             1768 non-null   int64         \n",
      " 15  SentimentScore           1768 non-null   float64       \n",
      " 16  Budget                   1768 non-null   int64         \n",
      " 17  Box Office Status        1768 non-null   object        \n",
      " 18  Age Rating               1768 non-null   object        \n",
      " 19  Release Day              1768 non-null   int32         \n",
      " 20  Release Month            1768 non-null   int32         \n",
      "dtypes: datetime64[ns](1), float64(1), int32(2), int64(5), object(12)\n",
      "memory usage: 354.6+ KB\n"
     ]
    }
   ],
   "source": [
    "df.info()"
   ]
  },
  {
   "cell_type": "markdown",
   "metadata": {},
   "source": [
    "Fix Budget Mistakes"
   ]
  },
  {
   "cell_type": "code",
   "execution_count": 839,
   "metadata": {
    "vscode": {
     "languageId": "ruby"
    }
   },
   "outputs": [
    {
     "name": "stdout",
     "output_type": "stream",
     "text": [
      "Highest Budget: 700000000000\n",
      "Lowest Budget: 3\n"
     ]
    }
   ],
   "source": [
    "highestBudget = df['Budget'].max()\n",
    "lowestBudget = df['Budget'].min()\n",
    "\n",
    "print(\"Highest Budget:\", highestBudget)\n",
    "print(\"Lowest Budget:\", lowestBudget)"
   ]
  },
  {
   "cell_type": "code",
   "execution_count": 840,
   "metadata": {
    "vscode": {
     "languageId": "ruby"
    }
   },
   "outputs": [],
   "source": [
    "# budget = df[df['Budget'] < 100000]\n",
    "# print(budget[['ID', 'Title', 'Budget']])"
   ]
  },
  {
   "cell_type": "code",
   "execution_count": 841,
   "metadata": {
    "vscode": {
     "languageId": "ruby"
    }
   },
   "outputs": [],
   "source": [
    "df.loc[df['ID'] == 197, 'Budget'] = 140000000\n",
    "df.loc[df['ID'] == 1783, 'Budget'] = 700000\n",
    "df.loc[df['ID'] == 1394, 'Budget'] = 3500000\n",
    "df.loc[df['ID'] == 230, 'Budget'] = 30000000\n",
    "df.loc[df['ID'] == 1235, 'Budget'] = 40000000\n",
    "df.loc[df['ID'] == 1250, 'Budget'] = 100000000\n",
    "df.loc[df['ID'] == 1599, 'Budget'] = 500000\n"
   ]
  },
  {
   "cell_type": "code",
   "execution_count": 842,
   "metadata": {
    "vscode": {
     "languageId": "ruby"
    }
   },
   "outputs": [
    {
     "name": "stdout",
     "output_type": "stream",
     "text": [
      "Highest Budget: 447000000\n",
      "Lowest Budget: 50000\n"
     ]
    }
   ],
   "source": [
    "highestBudget = df['Budget'].max()\n",
    "lowestBudget = df['Budget'].min()\n",
    "\n",
    "print(\"Highest Budget:\", highestBudget)\n",
    "print(\"Lowest Budget:\", lowestBudget)"
   ]
  },
  {
   "cell_type": "markdown",
   "metadata": {},
   "source": [
    "Fix Box Office Mistakes"
   ]
  },
  {
   "cell_type": "code",
   "execution_count": 843,
   "metadata": {
    "vscode": {
     "languageId": "ruby"
    }
   },
   "outputs": [
    {
     "name": "stdout",
     "output_type": "stream",
     "text": [
      "Highest Box Office: 2923000000\n",
      "Lowest Box Office: 132\n"
     ]
    }
   ],
   "source": [
    "highestBoxOffice = df['Box Office'].max()\n",
    "lowestBoxOffice = df['Box Office'].min()\n",
    "\n",
    "print(f\"Highest Box Office: {highestBoxOffice}\")\n",
    "print(f\"Lowest Box Office: {lowestBoxOffice}\")"
   ]
  },
  {
   "cell_type": "code",
   "execution_count": 844,
   "metadata": {
    "vscode": {
     "languageId": "ruby"
    }
   },
   "outputs": [],
   "source": [
    "# boxOffice = df[df['Box Office'] > 2000000000]\n",
    "# print(boxOffice[['ID', 'Title', 'Box Office', 'Age Rating']])\n",
    "# print(boxOffice.shape)"
   ]
  },
  {
   "cell_type": "code",
   "execution_count": 845,
   "metadata": {
    "vscode": {
     "languageId": "ruby"
    }
   },
   "outputs": [],
   "source": [
    "df.loc[df['ID'] == 414, 'Box Office'] = 132600000\n",
    "df.loc[df['ID'] == 478, 'Box Office'] = 141909\n",
    "df.loc[df['ID'] == 1820, 'Box Office'] = 233000000"
   ]
  },
  {
   "cell_type": "code",
   "execution_count": 846,
   "metadata": {},
   "outputs": [],
   "source": [
    "# Remove Box Office Rows With Values Less Than 10000\n",
    "\n",
    "df = df[df['Box Office'] >= 10000]"
   ]
  },
  {
   "cell_type": "code",
   "execution_count": 847,
   "metadata": {
    "vscode": {
     "languageId": "ruby"
    }
   },
   "outputs": [
    {
     "name": "stdout",
     "output_type": "stream",
     "text": [
      "Highest Box Office: 2923000000\n",
      "Lowest Box Office: 15071\n"
     ]
    }
   ],
   "source": [
    "highestBoxOffice = df['Box Office'].max()\n",
    "lowestBoxOffice = df['Box Office'].min()\n",
    "\n",
    "print(f\"Highest Box Office: {highestBoxOffice}\")\n",
    "print(f\"Lowest Box Office: {lowestBoxOffice}\")"
   ]
  },
  {
   "cell_type": "code",
   "execution_count": 848,
   "metadata": {
    "vscode": {
     "languageId": "ruby"
    }
   },
   "outputs": [
    {
     "data": {
      "text/plain": [
       "1761"
      ]
     },
     "execution_count": 848,
     "metadata": {},
     "output_type": "execute_result"
    }
   ],
   "source": [
    "df.shape[0]"
   ]
  },
  {
   "cell_type": "code",
   "execution_count": 849,
   "metadata": {
    "vscode": {
     "languageId": "ruby"
    }
   },
   "outputs": [],
   "source": [
    "movies = df[['Title', 'Directed by', 'Produced by', 'Cinematography', 'Runtime', 'Distributed by', 'Language', 'Written by', 'Cast', 'Edited by', 'Production companies', 'Release Day', 'Release Month', 'Release Year', 'Age Rating', 'SentimentScore', 'Budget', 'Box Office', 'Box Office Status']]"
   ]
  },
  {
   "cell_type": "code",
   "execution_count": 850,
   "metadata": {
    "vscode": {
     "languageId": "ruby"
    }
   },
   "outputs": [
    {
     "name": "stdout",
     "output_type": "stream",
     "text": [
      "<class 'pandas.core.frame.DataFrame'>\n",
      "Index: 1761 entries, 0 to 1994\n",
      "Data columns (total 19 columns):\n",
      " #   Column                Non-Null Count  Dtype  \n",
      "---  ------                --------------  -----  \n",
      " 0   Title                 1761 non-null   object \n",
      " 1   Directed by           1761 non-null   object \n",
      " 2   Produced by           1761 non-null   object \n",
      " 3   Cinematography        1761 non-null   object \n",
      " 4   Runtime               1761 non-null   int64  \n",
      " 5   Distributed by        1761 non-null   object \n",
      " 6   Language              1761 non-null   object \n",
      " 7   Written by            1761 non-null   object \n",
      " 8   Cast                  1761 non-null   object \n",
      " 9   Edited by             1761 non-null   object \n",
      " 10  Production companies  1761 non-null   object \n",
      " 11  Release Day           1761 non-null   int32  \n",
      " 12  Release Month         1761 non-null   int32  \n",
      " 13  Release Year          1761 non-null   int64  \n",
      " 14  Age Rating            1761 non-null   object \n",
      " 15  SentimentScore        1761 non-null   float64\n",
      " 16  Budget                1761 non-null   int64  \n",
      " 17  Box Office            1761 non-null   int64  \n",
      " 18  Box Office Status     1761 non-null   object \n",
      "dtypes: float64(1), int32(2), int64(4), object(12)\n",
      "memory usage: 261.4+ KB\n"
     ]
    }
   ],
   "source": [
    "movies.info()"
   ]
  },
  {
   "cell_type": "code",
   "execution_count": 851,
   "metadata": {
    "vscode": {
     "languageId": "ruby"
    }
   },
   "outputs": [
    {
     "name": "stdout",
     "output_type": "stream",
     "text": [
      "Lionsgate\n"
     ]
    }
   ],
   "source": [
    "starring= movies.loc[0, 'Production companies']\n",
    "print(starring[0])"
   ]
  },
  {
   "cell_type": "code",
   "execution_count": 852,
   "metadata": {},
   "outputs": [],
   "source": [
    "import pickle\n",
    "\n",
    "def saveDataPickle(name, data):\n",
    "    if hasattr(data, 'reset_index'):\n",
    "        data = data.reset_index(drop=True)\n",
    "    with open(name, 'wb') as f:\n",
    "        pickle.dump(data, f)\n"
   ]
  },
  {
   "cell_type": "code",
   "execution_count": 853,
   "metadata": {},
   "outputs": [],
   "source": [
    "saveDataPickle(\"WikipediaMovieDataset.pickle\", movies)"
   ]
  }
 ],
 "metadata": {
  "kernelspec": {
   "display_name": "Python 3",
   "language": "python",
   "name": "python3"
  },
  "language_info": {
   "codemirror_mode": {
    "name": "ipython",
    "version": 3
   },
   "file_extension": ".py",
   "mimetype": "text/x-python",
   "name": "python",
   "nbconvert_exporter": "python",
   "pygments_lexer": "ipython3",
   "version": "3.10.7"
  }
 },
 "nbformat": 4,
 "nbformat_minor": 2
}
