{
 "cells": [
  {
   "cell_type": "code",
   "execution_count": 92,
   "metadata": {},
   "outputs": [],
   "source": [
    "import pandas as pd\n",
    "import numpy as np"
   ]
  },
  {
   "cell_type": "code",
   "execution_count": 93,
   "metadata": {},
   "outputs": [
    {
     "data": {
      "text/html": [
       "<div>\n",
       "<style scoped>\n",
       "    .dataframe tbody tr th:only-of-type {\n",
       "        vertical-align: middle;\n",
       "    }\n",
       "\n",
       "    .dataframe tbody tr th {\n",
       "        vertical-align: top;\n",
       "    }\n",
       "\n",
       "    .dataframe thead th {\n",
       "        text-align: right;\n",
       "    }\n",
       "</style>\n",
       "<table border=\"1\" class=\"dataframe\">\n",
       "  <thead>\n",
       "    <tr style=\"text-align: right;\">\n",
       "      <th></th>\n",
       "      <th>ID</th>\n",
       "      <th>Title</th>\n",
       "      <th>Directed by</th>\n",
       "      <th>Produced by</th>\n",
       "      <th>Cinematography</th>\n",
       "      <th>Country</th>\n",
       "      <th>Running Time (int)</th>\n",
       "      <th>Release Date (datetime)</th>\n",
       "      <th>Distributed by</th>\n",
       "      <th>Language</th>\n",
       "      <th>...</th>\n",
       "      <th>Production companies</th>\n",
       "      <th>Based on</th>\n",
       "      <th>Story by</th>\n",
       "      <th>Box Office (float)</th>\n",
       "      <th>Release Year</th>\n",
       "      <th>Trailer ID</th>\n",
       "      <th>Trailer Title</th>\n",
       "      <th>SentimentScore</th>\n",
       "      <th>Budget (float)</th>\n",
       "      <th>Box Office Status</th>\n",
       "    </tr>\n",
       "  </thead>\n",
       "  <tbody>\n",
       "    <tr>\n",
       "      <th>0</th>\n",
       "      <td>0</td>\n",
       "      <td>Daybreakers</td>\n",
       "      <td>The Spierig Brothers</td>\n",
       "      <td>['Chris Brown', 'Sean Furst', 'Bryan Furst']</td>\n",
       "      <td>Ben Nott</td>\n",
       "      <td>NaN</td>\n",
       "      <td>98.0</td>\n",
       "      <td>2009-09-11</td>\n",
       "      <td>['Lionsgate (United States)', 'Hoyts Distribut...</td>\n",
       "      <td>English</td>\n",
       "      <td>...</td>\n",
       "      <td>['Lionsgate', 'Screen Australia', 'Pictures in...</td>\n",
       "      <td>NaN</td>\n",
       "      <td>NaN</td>\n",
       "      <td>51400000.0</td>\n",
       "      <td>2009</td>\n",
       "      <td>U6NmZS9CTKE</td>\n",
       "      <td>NaN</td>\n",
       "      <td>0.642857</td>\n",
       "      <td>20000000.0</td>\n",
       "      <td>Success</td>\n",
       "    </tr>\n",
       "    <tr>\n",
       "      <th>1</th>\n",
       "      <td>1</td>\n",
       "      <td>Leap Year</td>\n",
       "      <td>Anand Tucker</td>\n",
       "      <td>['Gary Barber', 'Chris Bender', 'Roger Birnbau...</td>\n",
       "      <td>Newton Thomas Sigel</td>\n",
       "      <td>NaN</td>\n",
       "      <td>100.0</td>\n",
       "      <td>2010-01-06</td>\n",
       "      <td>['Universal Pictures (United States)', 'Optimu...</td>\n",
       "      <td>English</td>\n",
       "      <td>...</td>\n",
       "      <td>['Spyglass Entertainment', 'BenderSpink']</td>\n",
       "      <td>NaN</td>\n",
       "      <td>NaN</td>\n",
       "      <td>32700000.0</td>\n",
       "      <td>2010</td>\n",
       "      <td>HrlQBsd8LsE</td>\n",
       "      <td>NaN</td>\n",
       "      <td>0.830000</td>\n",
       "      <td>19000000.0</td>\n",
       "      <td>Failure</td>\n",
       "    </tr>\n",
       "    <tr>\n",
       "      <th>2</th>\n",
       "      <td>2</td>\n",
       "      <td>Youth in Revolt</td>\n",
       "      <td>Miguel Arteta</td>\n",
       "      <td>David Permut</td>\n",
       "      <td>Chuy Chávez</td>\n",
       "      <td>United States</td>\n",
       "      <td>89.0</td>\n",
       "      <td>2009-10-19</td>\n",
       "      <td>Dimension Films</td>\n",
       "      <td>English</td>\n",
       "      <td>...</td>\n",
       "      <td>['Permut', 'Shangri-La Entertainment']</td>\n",
       "      <td>['Youth in Revolt', 'by ', 'C.D. Payne']</td>\n",
       "      <td>NaN</td>\n",
       "      <td>19700000.0</td>\n",
       "      <td>2009</td>\n",
       "      <td>1gBnVf130uU</td>\n",
       "      <td>NaN</td>\n",
       "      <td>0.780000</td>\n",
       "      <td>18000000.0</td>\n",
       "      <td>Failure</td>\n",
       "    </tr>\n",
       "    <tr>\n",
       "      <th>3</th>\n",
       "      <td>3</td>\n",
       "      <td>Wonderful World</td>\n",
       "      <td>Joshua Goldin</td>\n",
       "      <td>['Miranda Bailey', 'Matthew Leutwyler', 'Glenn...</td>\n",
       "      <td>Daniel Shulman</td>\n",
       "      <td>United States</td>\n",
       "      <td>89.0</td>\n",
       "      <td>2009-04-27</td>\n",
       "      <td>Magnolia Pictures</td>\n",
       "      <td>English</td>\n",
       "      <td>...</td>\n",
       "      <td>['Ambush Entertainment', 'Back Lot Pictures', ...</td>\n",
       "      <td>NaN</td>\n",
       "      <td>NaN</td>\n",
       "      <td>9309.0</td>\n",
       "      <td>2009</td>\n",
       "      <td>n2_4asPVgOQ</td>\n",
       "      <td>NaN</td>\n",
       "      <td>0.500000</td>\n",
       "      <td>3000000.0</td>\n",
       "      <td>Failure</td>\n",
       "    </tr>\n",
       "    <tr>\n",
       "      <th>4</th>\n",
       "      <td>4</td>\n",
       "      <td>The Book of Eli</td>\n",
       "      <td>The Hughes Brothers</td>\n",
       "      <td>['Joel Silver', 'Denzel Washington', 'Broderic...</td>\n",
       "      <td>Don Burgess</td>\n",
       "      <td>United States</td>\n",
       "      <td>118.0</td>\n",
       "      <td>2010-01-15</td>\n",
       "      <td>['Warner Bros. Pictures', ' (North America)', ...</td>\n",
       "      <td>English</td>\n",
       "      <td>...</td>\n",
       "      <td>['Alcon Entertainment', 'Silver Pictures']</td>\n",
       "      <td>NaN</td>\n",
       "      <td>NaN</td>\n",
       "      <td>157100000.0</td>\n",
       "      <td>2010</td>\n",
       "      <td>zSMHmtaoXtI</td>\n",
       "      <td>NaN</td>\n",
       "      <td>0.880000</td>\n",
       "      <td>80000000.0</td>\n",
       "      <td>Failure</td>\n",
       "    </tr>\n",
       "  </tbody>\n",
       "</table>\n",
       "<p>5 rows × 24 columns</p>\n",
       "</div>"
      ],
      "text/plain": [
       "   ID            Title           Directed by  \\\n",
       "0   0      Daybreakers  The Spierig Brothers   \n",
       "1   1        Leap Year          Anand Tucker   \n",
       "2   2  Youth in Revolt         Miguel Arteta   \n",
       "3   3  Wonderful World         Joshua Goldin   \n",
       "4   4  The Book of Eli   The Hughes Brothers   \n",
       "\n",
       "                                         Produced by       Cinematography  \\\n",
       "0       ['Chris Brown', 'Sean Furst', 'Bryan Furst']             Ben Nott   \n",
       "1  ['Gary Barber', 'Chris Bender', 'Roger Birnbau...  Newton Thomas Sigel   \n",
       "2                                       David Permut          Chuy Chávez   \n",
       "3  ['Miranda Bailey', 'Matthew Leutwyler', 'Glenn...       Daniel Shulman   \n",
       "4  ['Joel Silver', 'Denzel Washington', 'Broderic...          Don Burgess   \n",
       "\n",
       "         Country  Running Time (int) Release Date (datetime)  \\\n",
       "0            NaN                98.0              2009-09-11   \n",
       "1            NaN               100.0              2010-01-06   \n",
       "2  United States                89.0              2009-10-19   \n",
       "3  United States                89.0              2009-04-27   \n",
       "4  United States               118.0              2010-01-15   \n",
       "\n",
       "                                      Distributed by Language  ...  \\\n",
       "0  ['Lionsgate (United States)', 'Hoyts Distribut...  English  ...   \n",
       "1  ['Universal Pictures (United States)', 'Optimu...  English  ...   \n",
       "2                                    Dimension Films  English  ...   \n",
       "3                                  Magnolia Pictures  English  ...   \n",
       "4  ['Warner Bros. Pictures', ' (North America)', ...  English  ...   \n",
       "\n",
       "                                Production companies  \\\n",
       "0  ['Lionsgate', 'Screen Australia', 'Pictures in...   \n",
       "1          ['Spyglass Entertainment', 'BenderSpink']   \n",
       "2             ['Permut', 'Shangri-La Entertainment']   \n",
       "3  ['Ambush Entertainment', 'Back Lot Pictures', ...   \n",
       "4         ['Alcon Entertainment', 'Silver Pictures']   \n",
       "\n",
       "                                   Based on Story by Box Office (float)  \\\n",
       "0                                       NaN      NaN         51400000.0   \n",
       "1                                       NaN      NaN         32700000.0   \n",
       "2  ['Youth in Revolt', 'by ', 'C.D. Payne']      NaN         19700000.0   \n",
       "3                                       NaN      NaN             9309.0   \n",
       "4                                       NaN      NaN        157100000.0   \n",
       "\n",
       "  Release Year   Trailer ID Trailer Title  SentimentScore  Budget (float)  \\\n",
       "0         2009  U6NmZS9CTKE           NaN        0.642857      20000000.0   \n",
       "1         2010  HrlQBsd8LsE           NaN        0.830000      19000000.0   \n",
       "2         2009  1gBnVf130uU           NaN        0.780000      18000000.0   \n",
       "3         2009  n2_4asPVgOQ           NaN        0.500000       3000000.0   \n",
       "4         2010  zSMHmtaoXtI           NaN        0.880000      80000000.0   \n",
       "\n",
       "  Box Office Status  \n",
       "0           Success  \n",
       "1           Failure  \n",
       "2           Failure  \n",
       "3           Failure  \n",
       "4           Failure  \n",
       "\n",
       "[5 rows x 24 columns]"
      ]
     },
     "execution_count": 93,
     "metadata": {},
     "output_type": "execute_result"
    }
   ],
   "source": [
    "df = pd.read_csv('WikipediaMovieDatasetWithTrailerIDsAndSentimentScore.csv')\n",
    "df = df[[col for col in df.columns if col not in ['Budget (float)', 'Box Office Status']] + ['Budget (float)', 'Box Office Status']]\n",
    "df.head()"
   ]
  },
  {
   "cell_type": "code",
   "execution_count": 94,
   "metadata": {},
   "outputs": [
    {
     "name": "stdout",
     "output_type": "stream",
     "text": [
      "[13, 215, 302, 320, 383, 404, 442, 513, 642, 803]\n"
     ]
    }
   ],
   "source": [
    "rows_with_sentiment_1 = df.loc[df['SentimentScore'] == 1.0]\n",
    "row_ids_with_sentiment_1 = rows_with_sentiment_1.index.tolist()\n",
    "print(row_ids_with_sentiment_1)\n"
   ]
  },
  {
   "cell_type": "code",
   "execution_count": 95,
   "metadata": {},
   "outputs": [
    {
     "data": {
      "text/plain": [
       "ID                            0\n",
       "Title                         0\n",
       "Directed by                   0\n",
       "Produced by                   1\n",
       "Cinematography               82\n",
       "Country                     450\n",
       "Running Time (int)            4\n",
       "Release Date (datetime)       0\n",
       "Distributed by                4\n",
       "Language                    145\n",
       "Written by                   10\n",
       "Starring                     11\n",
       "Edited by                     9\n",
       "Music by                     74\n",
       "Production companies         33\n",
       "Based on                   1035\n",
       "Story by                   1546\n",
       "Box Office (float)            0\n",
       "Release Year                  0\n",
       "Trailer ID                    0\n",
       "Trailer Title                88\n",
       "SentimentScore              185\n",
       "Budget (float)                0\n",
       "Box Office Status             0\n",
       "dtype: int64"
      ]
     },
     "execution_count": 95,
     "metadata": {},
     "output_type": "execute_result"
    }
   ],
   "source": [
    "df.isnull().sum()"
   ]
  },
  {
   "cell_type": "code",
   "execution_count": 96,
   "metadata": {},
   "outputs": [],
   "source": [
    "df.drop(['Country', 'Story by', 'Music by', 'Based on', 'Story by', 'Trailer ID', 'Trailer Title', 'Box Office (float)'], axis=1, inplace=True)\n"
   ]
  },
  {
   "cell_type": "code",
   "execution_count": 97,
   "metadata": {},
   "outputs": [],
   "source": [
    "df.dropna(subset=['SentimentScore'], inplace=True)\n"
   ]
  },
  {
   "cell_type": "code",
   "execution_count": 98,
   "metadata": {},
   "outputs": [
    {
     "data": {
      "text/plain": [
       "ID                           0\n",
       "Title                        0\n",
       "Directed by                  0\n",
       "Produced by                  0\n",
       "Cinematography              30\n",
       "Running Time (int)           3\n",
       "Release Date (datetime)      0\n",
       "Distributed by               3\n",
       "Language                   140\n",
       "Written by                   9\n",
       "Starring                    10\n",
       "Edited by                    9\n",
       "Production companies        29\n",
       "Release Year                 0\n",
       "SentimentScore               0\n",
       "Budget (float)               0\n",
       "Box Office Status            0\n",
       "dtype: int64"
      ]
     },
     "execution_count": 98,
     "metadata": {},
     "output_type": "execute_result"
    }
   ],
   "source": [
    "df.isnull().sum()"
   ]
  },
  {
   "cell_type": "code",
   "execution_count": 99,
   "metadata": {},
   "outputs": [
    {
     "name": "stdout",
     "output_type": "stream",
     "text": [
      "[16, 30, 779]\n",
      "[2009, 2009, 2014]\n",
      "['Ajami', 'Formosa Betrayed', '50 to 1']\n"
     ]
    }
   ],
   "source": [
    "column = 'Distributed by'\n",
    "showNullIDs = df[df[column].isnull()]['ID']\n",
    "showNullYears = df[df[column].isnull()]['Release Year']\n",
    "showNullTitles = df[df[column].isnull()]['Title']\n",
    "print(showNullIDs.to_list())\n",
    "print(showNullYears.to_list())\n",
    "print(showNullTitles.to_list())\n"
   ]
  },
  {
   "cell_type": "markdown",
   "metadata": {},
   "source": [
    "Fill In Missing Running Times"
   ]
  },
  {
   "cell_type": "code",
   "execution_count": 100,
   "metadata": {},
   "outputs": [],
   "source": [
    "df.loc[df['ID'] == 72, 'Running Time (int)'] = 85.0\n",
    "df.loc[df['ID'] == 713, 'Running Time (int)'] = 118.0\n",
    "df.loc[df['ID'] == 1872, 'Running Time (int)'] = 119.0"
   ]
  },
  {
   "cell_type": "markdown",
   "metadata": {},
   "source": [
    "Fill In Missing Language"
   ]
  },
  {
   "cell_type": "code",
   "execution_count": 101,
   "metadata": {},
   "outputs": [],
   "source": [
    "df.loc[df['ID'] == 16, 'Language'] = 'Arabic'"
   ]
  },
  {
   "cell_type": "markdown",
   "metadata": {},
   "source": [
    "Fill In Missing Distributors"
   ]
  },
  {
   "cell_type": "code",
   "execution_count": 102,
   "metadata": {},
   "outputs": [],
   "source": [
    "df.loc[df['ID'] == 16, 'Distributed by'] = 'Kino International'\n",
    "df.loc[df['ID'] == 30, 'Distributed by'] = 'Screen Media Films'\n",
    "df.loc[df['ID'] == 779, 'Distributed by'] = 'Ten Furlongs'"
   ]
  },
  {
   "cell_type": "markdown",
   "metadata": {},
   "source": [
    "Fill Null Languages With English"
   ]
  },
  {
   "cell_type": "code",
   "execution_count": 103,
   "metadata": {},
   "outputs": [
    {
     "name": "stderr",
     "output_type": "stream",
     "text": [
      "C:\\Users\\tasin\\AppData\\Local\\Temp\\ipykernel_11800\\1857735874.py:1: FutureWarning: A value is trying to be set on a copy of a DataFrame or Series through chained assignment using an inplace method.\n",
      "The behavior will change in pandas 3.0. This inplace method will never work because the intermediate object on which we are setting values always behaves as a copy.\n",
      "\n",
      "For example, when doing 'df[col].method(value, inplace=True)', try using 'df.method({col: value}, inplace=True)' or df[col] = df[col].method(value) instead, to perform the operation inplace on the original object.\n",
      "\n",
      "\n",
      "  df['Language'].fillna('English', inplace=True)\n"
     ]
    }
   ],
   "source": [
    "df['Language'].fillna('English', inplace=True)\n"
   ]
  },
  {
   "cell_type": "code",
   "execution_count": 104,
   "metadata": {},
   "outputs": [
    {
     "name": "stdout",
     "output_type": "stream",
     "text": [
      "ID                                                                        16\n",
      "Title                                                                  Ajami\n",
      "Directed by                                 ['Scandar Copti', 'Yaron Shani']\n",
      "Produced by                ['Moshe Danon', 'Thanassis Karathanos', 'Talia...\n",
      "Cinematography                                         Boaz Yehonatan Yaacov\n",
      "Running Time (int)                                                     120.0\n",
      "Release Date (datetime)                                           2009-05-22\n",
      "Distributed by                                            Kino International\n",
      "Language                                                              Arabic\n",
      "Written by                                  ['Scandar Copti', 'Yaron Shani']\n",
      "Starring                   ['Fouad Habash', 'Ibrahim Frege', 'Scandar Cop...\n",
      "Edited by                                   ['Scandar Copti', 'Yaron Shani']\n",
      "Production companies                                                     NaN\n",
      "Release Year                                                            2009\n",
      "SentimentScore                                                      0.388889\n",
      "Budget (float)                                                     1000000.0\n",
      "Box Office Status                                                    Failure\n",
      "Name: 16, dtype: object\n"
     ]
    }
   ],
   "source": [
    "rowInfo = df.loc[16]\n",
    "print(rowInfo)\n"
   ]
  },
  {
   "cell_type": "code",
   "execution_count": 105,
   "metadata": {},
   "outputs": [],
   "source": [
    "# df.to_csv('MovieDataset.csv', index=False)"
   ]
  }
 ],
 "metadata": {
  "kernelspec": {
   "display_name": "Python 3",
   "language": "python",
   "name": "python3"
  },
  "language_info": {
   "codemirror_mode": {
    "name": "ipython",
    "version": 3
   },
   "file_extension": ".py",
   "mimetype": "text/x-python",
   "name": "python",
   "nbconvert_exporter": "python",
   "pygments_lexer": "ipython3",
   "version": "3.10.7"
  }
 },
 "nbformat": 4,
 "nbformat_minor": 2
}
