{
 "cells": [
  {
   "cell_type": "markdown",
   "metadata": {},
   "source": [
    "# Data Cleaning"
   ]
  },
  {
   "cell_type": "code",
   "execution_count": 139,
   "metadata": {},
   "outputs": [],
   "source": [
    "import pandas as pd\n",
    "import numpy as np"
   ]
  },
  {
   "cell_type": "code",
   "execution_count": 140,
   "metadata": {},
   "outputs": [
    {
     "data": {
      "text/html": [
       "<div>\n",
       "<style scoped>\n",
       "    .dataframe tbody tr th:only-of-type {\n",
       "        vertical-align: middle;\n",
       "    }\n",
       "\n",
       "    .dataframe tbody tr th {\n",
       "        vertical-align: top;\n",
       "    }\n",
       "\n",
       "    .dataframe thead th {\n",
       "        text-align: right;\n",
       "    }\n",
       "</style>\n",
       "<table border=\"1\" class=\"dataframe\">\n",
       "  <thead>\n",
       "    <tr style=\"text-align: right;\">\n",
       "      <th></th>\n",
       "      <th>ID</th>\n",
       "      <th>Title</th>\n",
       "      <th>Directed by</th>\n",
       "      <th>Produced by</th>\n",
       "      <th>Cinematography</th>\n",
       "      <th>Country</th>\n",
       "      <th>Running Time (int)</th>\n",
       "      <th>Release Date (datetime)</th>\n",
       "      <th>Distributed by</th>\n",
       "      <th>Language</th>\n",
       "      <th>...</th>\n",
       "      <th>Production companies</th>\n",
       "      <th>Based on</th>\n",
       "      <th>Story by</th>\n",
       "      <th>Box Office (float)</th>\n",
       "      <th>Release Year</th>\n",
       "      <th>Trailer ID</th>\n",
       "      <th>Trailer Title</th>\n",
       "      <th>SentimentScore</th>\n",
       "      <th>Budget (float)</th>\n",
       "      <th>Box Office Status</th>\n",
       "    </tr>\n",
       "  </thead>\n",
       "  <tbody>\n",
       "    <tr>\n",
       "      <th>0</th>\n",
       "      <td>0</td>\n",
       "      <td>Daybreakers</td>\n",
       "      <td>The Spierig Brothers</td>\n",
       "      <td>['Chris Brown', 'Sean Furst', 'Bryan Furst']</td>\n",
       "      <td>Ben Nott</td>\n",
       "      <td>NaN</td>\n",
       "      <td>98.0</td>\n",
       "      <td>2009-09-11</td>\n",
       "      <td>['Lionsgate (United States)', 'Hoyts Distribut...</td>\n",
       "      <td>English</td>\n",
       "      <td>...</td>\n",
       "      <td>['Lionsgate', 'Screen Australia', 'Pictures in...</td>\n",
       "      <td>NaN</td>\n",
       "      <td>NaN</td>\n",
       "      <td>51400000.0</td>\n",
       "      <td>2009</td>\n",
       "      <td>U6NmZS9CTKE</td>\n",
       "      <td>NaN</td>\n",
       "      <td>0.642857</td>\n",
       "      <td>20000000.0</td>\n",
       "      <td>Success</td>\n",
       "    </tr>\n",
       "    <tr>\n",
       "      <th>1</th>\n",
       "      <td>1</td>\n",
       "      <td>Leap Year</td>\n",
       "      <td>Anand Tucker</td>\n",
       "      <td>['Gary Barber', 'Chris Bender', 'Roger Birnbau...</td>\n",
       "      <td>Newton Thomas Sigel</td>\n",
       "      <td>NaN</td>\n",
       "      <td>100.0</td>\n",
       "      <td>2010-01-06</td>\n",
       "      <td>['Universal Pictures (United States)', 'Optimu...</td>\n",
       "      <td>English</td>\n",
       "      <td>...</td>\n",
       "      <td>['Spyglass Entertainment', 'BenderSpink']</td>\n",
       "      <td>NaN</td>\n",
       "      <td>NaN</td>\n",
       "      <td>32700000.0</td>\n",
       "      <td>2010</td>\n",
       "      <td>HrlQBsd8LsE</td>\n",
       "      <td>NaN</td>\n",
       "      <td>0.830000</td>\n",
       "      <td>19000000.0</td>\n",
       "      <td>Failure</td>\n",
       "    </tr>\n",
       "    <tr>\n",
       "      <th>2</th>\n",
       "      <td>2</td>\n",
       "      <td>Youth in Revolt</td>\n",
       "      <td>Miguel Arteta</td>\n",
       "      <td>David Permut</td>\n",
       "      <td>Chuy Chávez</td>\n",
       "      <td>United States</td>\n",
       "      <td>89.0</td>\n",
       "      <td>2009-10-19</td>\n",
       "      <td>Dimension Films</td>\n",
       "      <td>English</td>\n",
       "      <td>...</td>\n",
       "      <td>['Permut', 'Shangri-La Entertainment']</td>\n",
       "      <td>['Youth in Revolt', 'by ', 'C.D. Payne']</td>\n",
       "      <td>NaN</td>\n",
       "      <td>19700000.0</td>\n",
       "      <td>2009</td>\n",
       "      <td>1gBnVf130uU</td>\n",
       "      <td>NaN</td>\n",
       "      <td>0.780000</td>\n",
       "      <td>18000000.0</td>\n",
       "      <td>Failure</td>\n",
       "    </tr>\n",
       "    <tr>\n",
       "      <th>3</th>\n",
       "      <td>3</td>\n",
       "      <td>Wonderful World</td>\n",
       "      <td>Joshua Goldin</td>\n",
       "      <td>['Miranda Bailey', 'Matthew Leutwyler', 'Glenn...</td>\n",
       "      <td>Daniel Shulman</td>\n",
       "      <td>United States</td>\n",
       "      <td>89.0</td>\n",
       "      <td>2009-04-27</td>\n",
       "      <td>Magnolia Pictures</td>\n",
       "      <td>English</td>\n",
       "      <td>...</td>\n",
       "      <td>['Ambush Entertainment', 'Back Lot Pictures', ...</td>\n",
       "      <td>NaN</td>\n",
       "      <td>NaN</td>\n",
       "      <td>9309.0</td>\n",
       "      <td>2009</td>\n",
       "      <td>n2_4asPVgOQ</td>\n",
       "      <td>NaN</td>\n",
       "      <td>0.500000</td>\n",
       "      <td>3000000.0</td>\n",
       "      <td>Failure</td>\n",
       "    </tr>\n",
       "    <tr>\n",
       "      <th>4</th>\n",
       "      <td>4</td>\n",
       "      <td>The Book of Eli</td>\n",
       "      <td>The Hughes Brothers</td>\n",
       "      <td>['Joel Silver', 'Denzel Washington', 'Broderic...</td>\n",
       "      <td>Don Burgess</td>\n",
       "      <td>United States</td>\n",
       "      <td>118.0</td>\n",
       "      <td>2010-01-15</td>\n",
       "      <td>['Warner Bros. Pictures', ' (North America)', ...</td>\n",
       "      <td>English</td>\n",
       "      <td>...</td>\n",
       "      <td>['Alcon Entertainment', 'Silver Pictures']</td>\n",
       "      <td>NaN</td>\n",
       "      <td>NaN</td>\n",
       "      <td>157100000.0</td>\n",
       "      <td>2010</td>\n",
       "      <td>zSMHmtaoXtI</td>\n",
       "      <td>NaN</td>\n",
       "      <td>0.880000</td>\n",
       "      <td>80000000.0</td>\n",
       "      <td>Failure</td>\n",
       "    </tr>\n",
       "  </tbody>\n",
       "</table>\n",
       "<p>5 rows × 24 columns</p>\n",
       "</div>"
      ],
      "text/plain": [
       "   ID            Title           Directed by  \\\n",
       "0   0      Daybreakers  The Spierig Brothers   \n",
       "1   1        Leap Year          Anand Tucker   \n",
       "2   2  Youth in Revolt         Miguel Arteta   \n",
       "3   3  Wonderful World         Joshua Goldin   \n",
       "4   4  The Book of Eli   The Hughes Brothers   \n",
       "\n",
       "                                         Produced by       Cinematography  \\\n",
       "0       ['Chris Brown', 'Sean Furst', 'Bryan Furst']             Ben Nott   \n",
       "1  ['Gary Barber', 'Chris Bender', 'Roger Birnbau...  Newton Thomas Sigel   \n",
       "2                                       David Permut          Chuy Chávez   \n",
       "3  ['Miranda Bailey', 'Matthew Leutwyler', 'Glenn...       Daniel Shulman   \n",
       "4  ['Joel Silver', 'Denzel Washington', 'Broderic...          Don Burgess   \n",
       "\n",
       "         Country  Running Time (int) Release Date (datetime)  \\\n",
       "0            NaN                98.0              2009-09-11   \n",
       "1            NaN               100.0              2010-01-06   \n",
       "2  United States                89.0              2009-10-19   \n",
       "3  United States                89.0              2009-04-27   \n",
       "4  United States               118.0              2010-01-15   \n",
       "\n",
       "                                      Distributed by Language  ...  \\\n",
       "0  ['Lionsgate (United States)', 'Hoyts Distribut...  English  ...   \n",
       "1  ['Universal Pictures (United States)', 'Optimu...  English  ...   \n",
       "2                                    Dimension Films  English  ...   \n",
       "3                                  Magnolia Pictures  English  ...   \n",
       "4  ['Warner Bros. Pictures', ' (North America)', ...  English  ...   \n",
       "\n",
       "                                Production companies  \\\n",
       "0  ['Lionsgate', 'Screen Australia', 'Pictures in...   \n",
       "1          ['Spyglass Entertainment', 'BenderSpink']   \n",
       "2             ['Permut', 'Shangri-La Entertainment']   \n",
       "3  ['Ambush Entertainment', 'Back Lot Pictures', ...   \n",
       "4         ['Alcon Entertainment', 'Silver Pictures']   \n",
       "\n",
       "                                   Based on Story by Box Office (float)  \\\n",
       "0                                       NaN      NaN         51400000.0   \n",
       "1                                       NaN      NaN         32700000.0   \n",
       "2  ['Youth in Revolt', 'by ', 'C.D. Payne']      NaN         19700000.0   \n",
       "3                                       NaN      NaN             9309.0   \n",
       "4                                       NaN      NaN        157100000.0   \n",
       "\n",
       "  Release Year   Trailer ID Trailer Title  SentimentScore  Budget (float)  \\\n",
       "0         2009  U6NmZS9CTKE           NaN        0.642857      20000000.0   \n",
       "1         2010  HrlQBsd8LsE           NaN        0.830000      19000000.0   \n",
       "2         2009  1gBnVf130uU           NaN        0.780000      18000000.0   \n",
       "3         2009  n2_4asPVgOQ           NaN        0.500000       3000000.0   \n",
       "4         2010  zSMHmtaoXtI           NaN        0.880000      80000000.0   \n",
       "\n",
       "  Box Office Status  \n",
       "0           Success  \n",
       "1           Failure  \n",
       "2           Failure  \n",
       "3           Failure  \n",
       "4           Failure  \n",
       "\n",
       "[5 rows x 24 columns]"
      ]
     },
     "execution_count": 140,
     "metadata": {},
     "output_type": "execute_result"
    }
   ],
   "source": [
    "df = pd.read_csv('WikipediaMovieDatasetWithTrailerIDsAndSentimentScore.csv')\n",
    "df = df[[col for col in df.columns if col not in ['Budget (float)', 'Box Office Status']] + ['Budget (float)', 'Box Office Status']]\n",
    "df.head()"
   ]
  },
  {
   "cell_type": "code",
   "execution_count": 141,
   "metadata": {},
   "outputs": [
    {
     "name": "stdout",
     "output_type": "stream",
     "text": [
      "['Ethan Hawke', 'Willem Dafoe', 'Claudia Karvan', 'Michael Dorman', 'Sam Neill', 'Vince Colosimo', 'Isabel Lucas']\n"
     ]
    }
   ],
   "source": [
    "production_companies = df.loc[0, 'Starring']\n",
    "print(production_companies)"
   ]
  },
  {
   "cell_type": "code",
   "execution_count": 142,
   "metadata": {},
   "outputs": [
    {
     "name": "stdout",
     "output_type": "stream",
     "text": [
      "[13, 215, 302, 320, 383, 404, 442, 513, 642, 803]\n"
     ]
    }
   ],
   "source": [
    "rows_with_sentiment_1 = df.loc[df['SentimentScore'] == 1.0]\n",
    "row_ids_with_sentiment_1 = rows_with_sentiment_1.index.tolist()\n",
    "print(row_ids_with_sentiment_1)\n"
   ]
  },
  {
   "cell_type": "code",
   "execution_count": 143,
   "metadata": {},
   "outputs": [
    {
     "data": {
      "text/plain": [
       "ID                            0\n",
       "Title                         0\n",
       "Directed by                   0\n",
       "Produced by                   1\n",
       "Cinematography               82\n",
       "Country                     450\n",
       "Running Time (int)            4\n",
       "Release Date (datetime)       0\n",
       "Distributed by                4\n",
       "Language                    145\n",
       "Written by                   10\n",
       "Starring                     11\n",
       "Edited by                     9\n",
       "Music by                     74\n",
       "Production companies         33\n",
       "Based on                   1035\n",
       "Story by                   1546\n",
       "Box Office (float)            0\n",
       "Release Year                  0\n",
       "Trailer ID                    0\n",
       "Trailer Title                88\n",
       "SentimentScore              185\n",
       "Budget (float)                0\n",
       "Box Office Status             0\n",
       "dtype: int64"
      ]
     },
     "execution_count": 143,
     "metadata": {},
     "output_type": "execute_result"
    }
   ],
   "source": [
    "df.isnull().sum()"
   ]
  },
  {
   "cell_type": "code",
   "execution_count": 144,
   "metadata": {},
   "outputs": [],
   "source": [
    "df.drop(['Country', 'Story by', 'Music by', 'Based on', 'Story by', 'Trailer ID', 'Trailer Title', 'Box Office (float)'], axis=1, inplace=True)\n"
   ]
  },
  {
   "cell_type": "code",
   "execution_count": 145,
   "metadata": {},
   "outputs": [],
   "source": [
    "df.dropna(subset=['SentimentScore'], inplace=True)\n"
   ]
  },
  {
   "cell_type": "code",
   "execution_count": 146,
   "metadata": {},
   "outputs": [
    {
     "data": {
      "text/plain": [
       "ID                           0\n",
       "Title                        0\n",
       "Directed by                  0\n",
       "Produced by                  0\n",
       "Cinematography              30\n",
       "Running Time (int)           3\n",
       "Release Date (datetime)      0\n",
       "Distributed by               3\n",
       "Language                   140\n",
       "Written by                   9\n",
       "Starring                    10\n",
       "Edited by                    9\n",
       "Production companies        29\n",
       "Release Year                 0\n",
       "SentimentScore               0\n",
       "Budget (float)               0\n",
       "Box Office Status            0\n",
       "dtype: int64"
      ]
     },
     "execution_count": 146,
     "metadata": {},
     "output_type": "execute_result"
    }
   ],
   "source": [
    "df.isnull().sum()"
   ]
  },
  {
   "cell_type": "code",
   "execution_count": 147,
   "metadata": {},
   "outputs": [
    {
     "name": "stdout",
     "output_type": "stream",
     "text": [
      "        ID                                              Title\n",
      "16      16                                              Ajami\n",
      "20      20                                  Shinjuku Incident\n",
      "24      24                                            Lourdes\n",
      "25      25                                   The Ghost Writer\n",
      "31      31                                          A Prophet\n",
      "72      72                                     Here and There\n",
      "78      78                                       Solitary Man\n",
      "91      91                      Coco Chanel & Igor Stravinsky\n",
      "101    101                                         Wild Grass\n",
      "103    103                                         Love Ranch\n",
      "136    136                                  The Army of Crime\n",
      "164    164                                         Inside Job\n",
      "215    215                                   Barney's Version\n",
      "227    227                                           Mooz-lum\n",
      "234    234                                            Beastly\n",
      "262    262  POM Wonderful Presents: The Greatest Movie Eve...\n",
      "294    294                                   The Perfect Host\n",
      "328    328                       I Don't Know How She Does It\n",
      "391    391                                             Pariah\n",
      "393    393                                       A Separation\n",
      "479    479                                          Last Ride\n",
      "484    484                                 Farewell, My Queen\n",
      "618    618                                          Java Heat\n",
      "779    779                                            50 to 1\n",
      "810    810             America: Imagine the World Without Her\n",
      "846    846         Atlas Shrugged Part III: Who Is John Galt?\n",
      "1000  1000                                    The Perfect Guy\n",
      "1188  1188                                    I'm Not Ashamed\n",
      "1476  1476                                           Dog Days\n"
     ]
    }
   ],
   "source": [
    "column = 'Production companies'\n",
    "showNullIDs = df[df[column].isnull()][['ID', 'Title']]\n",
    "print(showNullIDs)\n",
    "\n"
   ]
  },
  {
   "cell_type": "markdown",
   "metadata": {},
   "source": [
    "Fill in Missing Production Companies"
   ]
  },
  {
   "cell_type": "code",
   "execution_count": 148,
   "metadata": {},
   "outputs": [],
   "source": [
    "df.loc[df['ID'] == 16, 'Production companies'] = \"['Inosan productions', 'Twenty Twenty Vision Filmproduktion GmbH', 'ARTE', 'Vertigo Films']\"\n",
    "df.loc[df['ID'] == 20, 'Production companies'] = 'Emperor Dragon Movies'\n",
    "df.loc[df['ID'] == 24, 'Production companies'] = \"['ARTE', 'Canal+', 'Coop99 Filmproduktion']\"\n",
    "df.loc[df['ID'] == 25, 'Production companies'] = \"['R.P. Productions', 'France 2 Cinéma', 'Studio Babelsberg']\"\n",
    "df.loc[df['ID'] == 31, 'Production companies'] = \"['Why Not Productions', 'Chic Films', 'Page 114']\"\n",
    "df.loc[df['ID'] == 72, 'Production companies'] = \"['KinoKamera', 'Here and There Productions', 'Joroni Film']\"\n",
    "df.loc[df['ID'] == 78, 'Production companies'] = \"['Millennium Films', 'Paul Schiff Productions', 'Smartest Man Productions']\"\n",
    "df.loc[df['ID'] == 91, 'Production companies'] = \"['Eurowide Film Production', 'Hexagon Pictures', 'Filmazure']\"\n",
    "df.loc[df['ID'] == 101, 'Production companies'] = \"['F Comme Film', 'StudioCanal', 'France 2 Cinéma']\"\n",
    "df.loc[df['ID'] == 101, 'Production companies'] = \"['F Comme Film', 'StudioCanal', 'France 2 Cinéma']\"\n",
    "df.loc[df['ID'] == 103, 'Production companies'] = \"['Aramid Entertainment Fund', 'Film & Entertainment VIP Medienfonds 3 GmbH & Co. KG', 'Rising Star']\"\n",
    "df.loc[df['ID'] == 136, 'Production companies'] = \"['Agat Films & Cie', 'StudioCanal', 'France 3 Cinéma']\"\n",
    "df.loc[df['ID'] == 215, 'Production companies'] = \"['Serendipity Point Films', 'Fandango', 'Lyla Films']\"\n",
    "df.loc[df['ID'] == 227, 'Production companies'] = \"['Q Productions', 'Ameena Sky Media', 'Peace Film']\"\n",
    "df.loc[df['ID'] == 262, 'Production companies'] = \"['Snoot Entertainment', 'Warrior Poets']\"\n",
    "df.loc[df['ID'] == 294, 'Production companies'] = \"['Stacey Testro International', 'Mark Victor Productions', 'Perfect Host']\"\n",
    "df.loc[df['ID'] == 328, 'Production companies'] = 'The Weinstein Company'\n",
    "df.loc[df['ID'] == 391, 'Production companies'] = \"['Chicken And Egg Pictures', 'MBK Entertainment', 'Northstar Pictures']\"\n",
    "df.loc[df['ID'] == 393, 'Production companies'] = \"['Asghar Farhadi Productions', 'Dreamlab Films', 'MPA APSA Academy Film Fund']\"\n",
    "df.loc[df['ID'] == 479, 'Production companies'] = \"['Australian Film Finance Corporation (AFFC)', 'Film Victoria', 'Last Ride']\"\n",
    "df.loc[df['ID'] == 484, 'Production companies'] = \"['GMT Productions', 'Les Films du Lendemain', 'Morena Films']\"\n",
    "df.loc[df['ID'] == 618, 'Production companies'] = \"['Margate House Films', 'Margate House']\"\n",
    "df.loc[df['ID'] == 779, 'Production companies'] = 'Ten Furlongs'\n",
    "df.loc[df['ID'] == 846, 'Production companies'] = 'Atlas 3 Productions'\n",
    "df.loc[df['ID'] == 1000, 'Production companies'] = \"['Confluential Films', 'Rocklin/Faust', 'Screen Gems']\"\n",
    "df.loc[df['ID'] == 1188, 'Production companies'] = \"['Visible Pictures(II)', 'Big Film Factory']\"\n",
    "df.loc[df['ID'] == 1476, 'Production companies'] = 'LD Entertainment'"
   ]
  },
  {
   "cell_type": "markdown",
   "metadata": {},
   "source": [
    "Fill in Missing Editors"
   ]
  },
  {
   "cell_type": "code",
   "execution_count": 149,
   "metadata": {},
   "outputs": [],
   "source": [
    "df.loc[df['ID'] == 19, 'Edited by'] = \"['Stéphane Garnier', 'Julien Rey']\"\n",
    "df.loc[df['ID'] == 72, 'Edited by'] = 'Dejan Urosevic'\n",
    "df.loc[df['ID'] == 73, 'Edited by'] = 'Beverley Mills'\n",
    "df.loc[df['ID'] == 227, 'Edited by'] = \"['Christopher Scott', 'Cherot']\"\n",
    "df.loc[df['ID'] == 260, 'Edited by'] = 'Martin Elsbury'\n",
    "df.loc[df['ID'] == 423, 'Edited by'] = \"['Molle DeBartolo', 'Andrew Pang', 'Anthony Raffaele', 'Jonathan Sanden', 'Darrell R. Smith', 'John Woo']\"\n",
    "df.loc[df['ID'] == 779, 'Edited by'] = 'Ben Callahan'\n",
    "df.loc[df['ID'] == 1872, 'Edited by'] = \"['Ankur Agrawal', 'Keith Brachmann']\""
   ]
  },
  {
   "cell_type": "markdown",
   "metadata": {},
   "source": [
    "Fill in Missing Starring"
   ]
  },
  {
   "cell_type": "code",
   "execution_count": 150,
   "metadata": {},
   "outputs": [],
   "source": [
    "df.loc[df['ID'] == 563, 'Starring'] = \"['Erica Linz', 'Igor Zaripov', 'Lutz Halbhubner', 'John Clarke', 'Dallas Barnett']\""
   ]
  },
  {
   "cell_type": "markdown",
   "metadata": {},
   "source": [
    "Fill in Missing Cinematographers"
   ]
  },
  {
   "cell_type": "code",
   "execution_count": 151,
   "metadata": {},
   "outputs": [],
   "source": [
    "df.loc[df['ID'] == 27, 'Cinematography'] = 'Seamus Tierney'\n",
    "df.loc[df['ID'] == 73, 'Cinematography'] = 'Gabriel Beristain'\n",
    "df.loc[df['ID'] == 211, 'Cinematography'] = 'Dick Pope'\n",
    "df.loc[df['ID'] == 227, 'Cinematography'] = 'Ian Dudley'\n",
    "df.loc[df['ID'] == 260, 'Cinematography'] = 'Sophie Darlington'\n",
    "df.loc[df['ID'] == 481, 'Cinematography'] = 'Sarah Weinstein'\n",
    "df.loc[df['ID'] == 779, 'Cinematography'] = 'Tim Suhrstedt'\n",
    "df.loc[df['ID'] == 1231, 'Cinematography'] = 'Henry Adebonojo'\n",
    "df.loc[df['ID'] == 1266, 'Cinematography'] = 'Justin Maguire'\n",
    "df.loc[df['ID'] == 1387, 'Cinematography'] = 'Paul Thomas Anderson'\n",
    "df.loc[df['ID'] == 1724, 'Cinematography'] = 'Chris Darnell'"
   ]
  },
  {
   "cell_type": "markdown",
   "metadata": {},
   "source": [
    "Fill In Missing Running Times"
   ]
  },
  {
   "cell_type": "code",
   "execution_count": 152,
   "metadata": {},
   "outputs": [],
   "source": [
    "df.loc[df['ID'] == 72, 'Running Time (int)'] = 85.0\n",
    "df.loc[df['ID'] == 713, 'Running Time (int)'] = 118.0\n",
    "df.loc[df['ID'] == 1872, 'Running Time (int)'] = 119.0"
   ]
  },
  {
   "cell_type": "markdown",
   "metadata": {},
   "source": [
    "Fill In Missing Language"
   ]
  },
  {
   "cell_type": "code",
   "execution_count": 153,
   "metadata": {},
   "outputs": [],
   "source": [
    "df.loc[df['ID'] == 16, 'Language'] = 'Arabic'"
   ]
  },
  {
   "cell_type": "markdown",
   "metadata": {},
   "source": [
    "Fill In Missing Distributors"
   ]
  },
  {
   "cell_type": "code",
   "execution_count": 154,
   "metadata": {},
   "outputs": [],
   "source": [
    "df.loc[df['ID'] == 16, 'Distributed by'] = 'Kino International'\n",
    "df.loc[df['ID'] == 30, 'Distributed by'] = 'Screen Media Films'\n",
    "df.loc[df['ID'] == 779, 'Distributed by'] = 'Ten Furlongs'"
   ]
  },
  {
   "cell_type": "markdown",
   "metadata": {},
   "source": [
    "Fill Null Languages With English"
   ]
  },
  {
   "cell_type": "code",
   "execution_count": 155,
   "metadata": {},
   "outputs": [
    {
     "name": "stderr",
     "output_type": "stream",
     "text": [
      "C:\\Users\\tasin\\AppData\\Local\\Temp\\ipykernel_11752\\1857735874.py:1: FutureWarning: A value is trying to be set on a copy of a DataFrame or Series through chained assignment using an inplace method.\n",
      "The behavior will change in pandas 3.0. This inplace method will never work because the intermediate object on which we are setting values always behaves as a copy.\n",
      "\n",
      "For example, when doing 'df[col].method(value, inplace=True)', try using 'df.method({col: value}, inplace=True)' or df[col] = df[col].method(value) instead, to perform the operation inplace on the original object.\n",
      "\n",
      "\n",
      "  df['Language'].fillna('English', inplace=True)\n"
     ]
    }
   ],
   "source": [
    "df['Language'].fillna('English', inplace=True)\n"
   ]
  },
  {
   "cell_type": "code",
   "execution_count": 156,
   "metadata": {},
   "outputs": [
    {
     "data": {
      "text/plain": [
       "ID                          0\n",
       "Title                       0\n",
       "Directed by                 0\n",
       "Produced by                 0\n",
       "Cinematography             19\n",
       "Running Time (int)          0\n",
       "Release Date (datetime)     0\n",
       "Distributed by              0\n",
       "Language                    0\n",
       "Written by                  9\n",
       "Starring                    9\n",
       "Edited by                   1\n",
       "Production companies        3\n",
       "Release Year                0\n",
       "SentimentScore              0\n",
       "Budget (float)              0\n",
       "Box Office Status           0\n",
       "dtype: int64"
      ]
     },
     "execution_count": 156,
     "metadata": {},
     "output_type": "execute_result"
    }
   ],
   "source": [
    "df.isnull().sum()"
   ]
  },
  {
   "cell_type": "markdown",
   "metadata": {},
   "source": [
    "Remove Rows With Null Values"
   ]
  },
  {
   "cell_type": "code",
   "execution_count": 157,
   "metadata": {},
   "outputs": [],
   "source": [
    "df.dropna(subset=['Cinematography'], inplace=True)\n",
    "df.dropna(subset=['Written by'], inplace=True)\n",
    "df.dropna(subset=['Starring'], inplace=True)\n",
    "df.dropna(subset=['Edited by'], inplace=True)\n",
    "df.dropna(subset=['Production companies'], inplace=True)"
   ]
  },
  {
   "cell_type": "code",
   "execution_count": 158,
   "metadata": {},
   "outputs": [
    {
     "data": {
      "text/plain": [
       "ID                         0\n",
       "Title                      0\n",
       "Directed by                0\n",
       "Produced by                0\n",
       "Cinematography             0\n",
       "Running Time (int)         0\n",
       "Release Date (datetime)    0\n",
       "Distributed by             0\n",
       "Language                   0\n",
       "Written by                 0\n",
       "Starring                   0\n",
       "Edited by                  0\n",
       "Production companies       0\n",
       "Release Year               0\n",
       "SentimentScore             0\n",
       "Budget (float)             0\n",
       "Box Office Status          0\n",
       "dtype: int64"
      ]
     },
     "execution_count": 158,
     "metadata": {},
     "output_type": "execute_result"
    }
   ],
   "source": [
    "df.isnull().sum()"
   ]
  },
  {
   "cell_type": "markdown",
   "metadata": {},
   "source": [
    "Convert Strings To List"
   ]
  },
  {
   "cell_type": "code",
   "execution_count": 159,
   "metadata": {},
   "outputs": [],
   "source": [
    "# Function to Check if a Value Is a String Representation of a List\n",
    "def isStringList(value):\n",
    "    return isinstance(value, str) and value.startswith(\"[\") and value.endswith(\"]\")\n",
    "\n",
    "# Apply the Function to Create a Boolean Mask\n",
    "maskStarring = df['Starring'].apply(isStringList)\n",
    "maskDirectedBy = df['Directed by'].apply(isStringList)\n",
    "maskProducedBy = df['Produced by'].apply(isStringList)\n",
    "maskCinematography = df['Cinematography'].apply(isStringList)\n",
    "maskDistributedBy = df['Distributed by'].apply(isStringList)\n",
    "maskWrittenBy = df['Written by'].apply(isStringList)\n",
    "maskEditedBy = df['Edited by'].apply(isStringList)\n",
    "maskProductionCompanies = df['Production companies'].apply(isStringList)\n",
    "\n",
    "# Apply eval() Only to the Elements That Are String Representations of Lists\n",
    "df.loc[maskStarring, 'Starring'] = df.loc[maskStarring, 'Starring'].apply(eval)\n",
    "df.loc[maskDirectedBy, 'Directed by'] = df.loc[maskDirectedBy, 'Directed by'].apply(eval)\n",
    "df.loc[maskProducedBy, 'Produced by'] = df.loc[maskProducedBy, 'Produced by'].apply(eval)\n",
    "df.loc[maskCinematography, 'Cinematography'] = df.loc[maskCinematography, 'Cinematography'].apply(eval)\n",
    "df.loc[maskDistributedBy, 'Distributed by'] = df.loc[maskDistributedBy, 'Distributed by'].apply(eval)\n",
    "df.loc[maskWrittenBy, 'Written by'] = df.loc[maskWrittenBy, 'Written by'].apply(eval)\n",
    "df.loc[maskEditedBy, 'Edited by'] = df.loc[maskEditedBy, 'Edited by'].apply(eval)\n",
    "df.loc[maskProductionCompanies, 'Production companies'] = df.loc[maskProductionCompanies, 'Production companies'].apply(eval)"
   ]
  },
  {
   "cell_type": "code",
   "execution_count": 160,
   "metadata": {},
   "outputs": [
    {
     "name": "stdout",
     "output_type": "stream",
     "text": [
      "      ID                   Title                      Directed by  \\\n",
      "78    78            Solitary Man  [Brian Koppelman, David Levien]   \n",
      "271  271      Something Borrowed                  Luke Greenfield   \n",
      "294  294        The Perfect Host                  Nicholas Tomnay   \n",
      "436  436  The Cabin in the Woods                     Drew Goddard   \n",
      "667  667         The World's End                     Edgar Wright   \n",
      "\n",
      "                                           Produced by    Cinematography  \\\n",
      "78   [Moshe Diamant, Danny Dimbort, Joe Gatta,  , J...  Alwin H. Küchler   \n",
      "271  [Hilary Swank, Molly Smith, Broderick Johnson,...    Charles Minsky   \n",
      "294                       [Mark Victor, Stacey Testro]      John Brawley   \n",
      "436                                        Joss Whedon      Peter Deming   \n",
      "667               [Nira Park, Tim Bevan, Eric Fellner]         Bill Pope   \n",
      "\n",
      "     Running Time (int) Release Date (datetime)  \\\n",
      "78                 90.0     2010-05-07 00:00:00   \n",
      "271               112.0     2011-05-06 00:00:00   \n",
      "294                92.0     2011-07-01 00:00:00   \n",
      "436                95.0     2012-04-13 00:00:00   \n",
      "667               109.0     2013-08-23 00:00:00   \n",
      "\n",
      "                                        Distributed by Language  \\\n",
      "78        [Millennium Films, Smartest Man Productions]  English   \n",
      "271  [Warner Bros. Pictures,  (North America and Fr...  English   \n",
      "294                                  Magnolia Pictures  English   \n",
      "436                                          Lionsgate  English   \n",
      "667  [Focus Features (United States), Universal Pic...  English   \n",
      "\n",
      "                           Written by  \\\n",
      "78                    Brian Koppelman   \n",
      "271               Jennie Snyder Urman   \n",
      "294  [Nicholas Tomnay, Krishna Jones]   \n",
      "436       [Joss Whedon, Drew Goddard]   \n",
      "667        [Simon Pegg, Edgar Wright]   \n",
      "\n",
      "                                              Starring        Edited by  \\\n",
      "78   [Michael Douglas, Jenna Fischer, Jesse Eisenbe...     Tricia Cooke   \n",
      "271  [Kate Hudson, Ginnifer Goodwin, John Krasinski...     John Axelrad   \n",
      "294  [David Hyde Pierce, Clayne Crawford, Helen Reddy]  Nicholas Tomnay   \n",
      "436  [Kristen Connolly, Chris Hemsworth, Anna Hutch...      Lisa Lassek   \n",
      "667  [Simon Pegg, Nick Frost, Paddy Considine, Mart...    Paul Machliss   \n",
      "\n",
      "                                  Production companies  Release Year  \\\n",
      "78   [Millennium Films, Paul Schiff Productions, Sm...          2010   \n",
      "271                    [Alcon Entertainment, 2S Films]          2011   \n",
      "294  [Stacey Testro International, Mark Victor Prod...          2011   \n",
      "436                           Mutant Enemy Productions          2012   \n",
      "667  [Relativity Media, Working Title Films, Big Ta...          2013   \n",
      "\n",
      "     SentimentScore  Budget (float) Box Office Status  \n",
      "78         0.473684      15000000.0           Failure  \n",
      "271        0.490000      35000000.0           Failure  \n",
      "294        0.703704        500000.0           Failure  \n",
      "436        0.740000      30000000.0           Failure  \n",
      "667        0.800000      20000000.0           Success  \n"
     ]
    }
   ],
   "source": [
    "# See What DateTime Rows are Causing Errors\n",
    "errors = pd.to_datetime(df['Release Date (datetime)'], errors='coerce').isnull()\n",
    "rowsWithErrors = df[errors]\n",
    "print(rowsWithErrors)"
   ]
  },
  {
   "cell_type": "code",
   "execution_count": 161,
   "metadata": {},
   "outputs": [],
   "source": [
    "df.loc[df['ID'] == 78, 'Release Date (datetime)'] = '2010-05-07'\n",
    "df.loc[df['ID'] == 271, 'Release Date (datetime)'] = '2011-05-06'\n",
    "df.loc[df['ID'] == 294, 'Release Date (datetime)'] = '2011-07-01'\n",
    "df.loc[df['ID'] == 436, 'Release Date (datetime)'] = '2012-04-13'\n",
    "df.loc[df['ID'] == 667, 'Release Date (datetime)'] = '2013-08-23'"
   ]
  },
  {
   "cell_type": "code",
   "execution_count": 162,
   "metadata": {},
   "outputs": [
    {
     "name": "stdout",
     "output_type": "stream",
     "text": [
      "ID                                                                        78\n",
      "Title                                                           Solitary Man\n",
      "Directed by                                  [Brian Koppelman, David Levien]\n",
      "Produced by                [Moshe Diamant, Danny Dimbort, Joe Gatta,  , J...\n",
      "Cinematography                                              Alwin H. Küchler\n",
      "Running Time (int)                                                      90.0\n",
      "Release Date (datetime)                                           2010-05-07\n",
      "Distributed by                  [Millennium Films, Smartest Man Productions]\n",
      "Language                                                             English\n",
      "Written by                                                   Brian Koppelman\n",
      "Starring                   [Michael Douglas, Jenna Fischer, Jesse Eisenbe...\n",
      "Edited by                                                       Tricia Cooke\n",
      "Production companies       [Millennium Films, Paul Schiff Productions, Sm...\n",
      "Release Year                                                            2010\n",
      "SentimentScore                                                      0.473684\n",
      "Budget (float)                                                    15000000.0\n",
      "Box Office Status                                                    Failure\n",
      "Name: 78, dtype: object\n"
     ]
    }
   ],
   "source": [
    "value = df.iloc[69]\n",
    "print(value)"
   ]
  },
  {
   "cell_type": "code",
   "execution_count": 163,
   "metadata": {},
   "outputs": [],
   "source": [
    "# Convert Release Date to DateTime\n",
    "df['Release Date (datetime)'] = pd.to_datetime(df['Release Date (datetime)'], format='%Y-%m-%d')"
   ]
  },
  {
   "cell_type": "code",
   "execution_count": 164,
   "metadata": {},
   "outputs": [
    {
     "name": "stdout",
     "output_type": "stream",
     "text": [
      "<class 'pandas._libs.tslibs.timestamps.Timestamp'>\n"
     ]
    }
   ],
   "source": [
    "# Check the Data Type of the Release Date Column in the 11th Row\n",
    "releaseDate = df.loc[11, 'Release Date (datetime)']\n",
    "print(type(releaseDate))"
   ]
  },
  {
   "cell_type": "code",
   "execution_count": 165,
   "metadata": {},
   "outputs": [
    {
     "name": "stdout",
     "output_type": "stream",
     "text": [
      "ID                                                                        78\n",
      "Title                                                           Solitary Man\n",
      "Directed by                                  [Brian Koppelman, David Levien]\n",
      "Produced by                [Moshe Diamant, Danny Dimbort, Joe Gatta,  , J...\n",
      "Cinematography                                              Alwin H. Küchler\n",
      "Running Time (int)                                                      90.0\n",
      "Release Date (datetime)                                  2010-05-07 00:00:00\n",
      "Distributed by                  [Millennium Films, Smartest Man Productions]\n",
      "Language                                                             English\n",
      "Written by                                                   Brian Koppelman\n",
      "Starring                   [Michael Douglas, Jenna Fischer, Jesse Eisenbe...\n",
      "Edited by                                                       Tricia Cooke\n",
      "Production companies       [Millennium Films, Paul Schiff Productions, Sm...\n",
      "Release Year                                                            2010\n",
      "SentimentScore                                                      0.473684\n",
      "Budget (float)                                                    15000000.0\n",
      "Box Office Status                                                    Failure\n",
      "Name: 78, dtype: object\n"
     ]
    }
   ],
   "source": [
    "value = df.iloc[69]\n",
    "print(value)"
   ]
  },
  {
   "cell_type": "code",
   "execution_count": 166,
   "metadata": {
    "vscode": {
     "languageId": "ruby"
    }
   },
   "outputs": [],
   "source": [
    "# Extract Month and Day from Release Date\n",
    "df['Release Day'] = df['Release Date (datetime)'].dt.day\n",
    "df['Release Month'] = df['Release Date (datetime)'].dt.month"
   ]
  },
  {
   "cell_type": "code",
   "execution_count": 167,
   "metadata": {
    "vscode": {
     "languageId": "ruby"
    }
   },
   "outputs": [
    {
     "name": "stdout",
     "output_type": "stream",
     "text": [
      "<class 'pandas.core.frame.DataFrame'>\n",
      "Index: 1772 entries, 0 to 1994\n",
      "Data columns (total 19 columns):\n",
      " #   Column                   Non-Null Count  Dtype         \n",
      "---  ------                   --------------  -----         \n",
      " 0   ID                       1772 non-null   int64         \n",
      " 1   Title                    1772 non-null   object        \n",
      " 2   Directed by              1772 non-null   object        \n",
      " 3   Produced by              1772 non-null   object        \n",
      " 4   Cinematography           1772 non-null   object        \n",
      " 5   Running Time (int)       1772 non-null   float64       \n",
      " 6   Release Date (datetime)  1772 non-null   datetime64[ns]\n",
      " 7   Distributed by           1772 non-null   object        \n",
      " 8   Language                 1772 non-null   object        \n",
      " 9   Written by               1772 non-null   object        \n",
      " 10  Starring                 1772 non-null   object        \n",
      " 11  Edited by                1772 non-null   object        \n",
      " 12  Production companies     1772 non-null   object        \n",
      " 13  Release Year             1772 non-null   int64         \n",
      " 14  SentimentScore           1772 non-null   float64       \n",
      " 15  Budget (float)           1772 non-null   float64       \n",
      " 16  Box Office Status        1772 non-null   object        \n",
      " 17  Release Day              1772 non-null   int32         \n",
      " 18  Release Month            1772 non-null   int32         \n",
      "dtypes: datetime64[ns](1), float64(3), int32(2), int64(2), object(11)\n",
      "memory usage: 327.6+ KB\n"
     ]
    }
   ],
   "source": [
    "df.info()"
   ]
  },
  {
   "cell_type": "code",
   "execution_count": 168,
   "metadata": {
    "vscode": {
     "languageId": "ruby"
    }
   },
   "outputs": [],
   "source": [
    "df = df[['Title', 'Directed by', 'Produced by', 'Cinematography', 'Running Time (int)', 'Distributed by', 'Language', 'Written by', 'Starring', 'Edited by', 'Production companies', 'Release Day', 'Release Month', 'Release Year', 'SentimentScore', 'Budget (float)', 'Box Office Status']]"
   ]
  },
  {
   "cell_type": "code",
   "execution_count": 169,
   "metadata": {
    "vscode": {
     "languageId": "ruby"
    }
   },
   "outputs": [
    {
     "name": "stdout",
     "output_type": "stream",
     "text": [
      "<class 'pandas.core.frame.DataFrame'>\n",
      "Index: 1772 entries, 0 to 1994\n",
      "Data columns (total 17 columns):\n",
      " #   Column                Non-Null Count  Dtype  \n",
      "---  ------                --------------  -----  \n",
      " 0   Title                 1772 non-null   object \n",
      " 1   Directed by           1772 non-null   object \n",
      " 2   Produced by           1772 non-null   object \n",
      " 3   Cinematography        1772 non-null   object \n",
      " 4   Running Time (int)    1772 non-null   float64\n",
      " 5   Distributed by        1772 non-null   object \n",
      " 6   Language              1772 non-null   object \n",
      " 7   Written by            1772 non-null   object \n",
      " 8   Starring              1772 non-null   object \n",
      " 9   Edited by             1772 non-null   object \n",
      " 10  Production companies  1772 non-null   object \n",
      " 11  Release Day           1772 non-null   int32  \n",
      " 12  Release Month         1772 non-null   int32  \n",
      " 13  Release Year          1772 non-null   int64  \n",
      " 14  SentimentScore        1772 non-null   float64\n",
      " 15  Budget (float)        1772 non-null   float64\n",
      " 16  Box Office Status     1772 non-null   object \n",
      "dtypes: float64(3), int32(2), int64(1), object(11)\n",
      "memory usage: 299.9+ KB\n"
     ]
    }
   ],
   "source": [
    "df.info()"
   ]
  },
  {
   "cell_type": "code",
   "execution_count": 170,
   "metadata": {
    "vscode": {
     "languageId": "ruby"
    }
   },
   "outputs": [
    {
     "name": "stdout",
     "output_type": "stream",
     "text": [
      "Lionsgate\n"
     ]
    }
   ],
   "source": [
    "starring= df.loc[0, 'Production companies']\n",
    "print(starring[0])"
   ]
  },
  {
   "cell_type": "code",
   "execution_count": 171,
   "metadata": {},
   "outputs": [],
   "source": [
    "import pickle\n",
    "\n",
    "def saveDataPickle(name, data):\n",
    "    if hasattr(data, 'reset_index'):\n",
    "        data = data.reset_index(drop=True)\n",
    "    with open(name, 'wb') as f:\n",
    "        pickle.dump(data, f)\n"
   ]
  },
  {
   "cell_type": "code",
   "execution_count": 172,
   "metadata": {},
   "outputs": [],
   "source": [
    "saveDataPickle(\"WikipediaMovieDataset.pickle\", df)"
   ]
  }
 ],
 "metadata": {
  "kernelspec": {
   "display_name": "Python 3",
   "language": "python",
   "name": "python3"
  },
  "language_info": {
   "codemirror_mode": {
    "name": "ipython",
    "version": 3
   },
   "file_extension": ".py",
   "mimetype": "text/x-python",
   "name": "python",
   "nbconvert_exporter": "python",
   "pygments_lexer": "ipython3",
   "version": "3.10.7"
  }
 },
 "nbformat": 4,
 "nbformat_minor": 2
}
